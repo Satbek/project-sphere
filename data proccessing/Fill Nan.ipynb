{
 "cells": [
  {
   "cell_type": "markdown",
   "metadata": {},
   "source": [
    "# Заполним пропуски\n",
    "\n",
    "Пропуски есть в near_metro и class"
   ]
  },
  {
   "cell_type": "markdown",
   "metadata": {},
   "source": [
    "# Near metro\n",
    "## Заполним через api yandex \"поиск по организациям\""
   ]
  },
  {
   "cell_type": "code",
   "execution_count": 2,
   "metadata": {},
   "outputs": [],
   "source": [
    "import json\n",
    "import geopy.distance as distance\n",
    "import pandas as pd\n",
    "import requests"
   ]
  },
  {
   "cell_type": "code",
   "execution_count": null,
   "metadata": {},
   "outputs": [],
   "source": [
    "data = pd.read_csv('../result.csv')"
   ]
  },
  {
   "cell_type": "code",
   "execution_count": 8,
   "metadata": {},
   "outputs": [],
   "source": [
    "def get_near_metro(lon, lat, api_key):\n",
    "    req_text = 'https://search-maps.yandex.ru/v1/?text=метро&ll=' + str(lon) + \",\" + str(lat) + '&lang=ru_RU&results=1&apikey=' + api_key\n",
    "    ans = json.loads(requests.get(req_text).text)\n",
    "    try:\n",
    "        metro_lon, metro_lat = ans['features'][0]['geometry']['coordinates']\n",
    "        result = distance.vincenty((lon, lat), (metro_lon, metro_lat)).m\n",
    "    except:\n",
    "        result = np.nan\n",
    "    return result"
   ]
  },
  {
   "cell_type": "code",
   "execution_count": 6,
   "metadata": {},
   "outputs": [],
   "source": [
    "null_metro = data[data['near_metro'].isnull()]"
   ]
  },
  {
   "cell_type": "code",
   "execution_count": 9,
   "metadata": {},
   "outputs": [
    {
     "data": {
      "text/html": [
       "<div>\n",
       "<style scoped>\n",
       "    .dataframe tbody tr th:only-of-type {\n",
       "        vertical-align: middle;\n",
       "    }\n",
       "\n",
       "    .dataframe tbody tr th {\n",
       "        vertical-align: top;\n",
       "    }\n",
       "\n",
       "    .dataframe thead th {\n",
       "        text-align: right;\n",
       "    }\n",
       "</style>\n",
       "<table border=\"1\" class=\"dataframe\">\n",
       "  <thead>\n",
       "    <tr style=\"text-align: right;\">\n",
       "      <th></th>\n",
       "      <th>Unnamed: 0</th>\n",
       "      <th>size</th>\n",
       "      <th>class</th>\n",
       "      <th>address</th>\n",
       "      <th>price</th>\n",
       "      <th>pledge</th>\n",
       "      <th>descr</th>\n",
       "      <th>metros</th>\n",
       "      <th>near_metro</th>\n",
       "      <th>url</th>\n",
       "      <th>parking</th>\n",
       "      <th>internet</th>\n",
       "      <th>meal</th>\n",
       "      <th>security</th>\n",
       "      <th>comfort</th>\n",
       "      <th>lat</th>\n",
       "      <th>lon</th>\n",
       "      <th>distance</th>\n",
       "    </tr>\n",
       "  </thead>\n",
       "  <tbody>\n",
       "    <tr>\n",
       "      <th>39</th>\n",
       "      <td>1002926616</td>\n",
       "      <td>57.0</td>\n",
       "      <td>NaN</td>\n",
       "      <td>Петровско-Разумовская,   Лихоборская наб 7</td>\n",
       "      <td>685</td>\n",
       "      <td>0</td>\n",
       "      <td>Сдаются офис склад на территории бывшего про...</td>\n",
       "      <td>NaN</td>\n",
       "      <td>NaN</td>\n",
       "      <td>https://www.avito.ru/moskva/kommercheskaya_ned...</td>\n",
       "      <td>1</td>\n",
       "      <td>0</td>\n",
       "      <td>0</td>\n",
       "      <td>0</td>\n",
       "      <td>0</td>\n",
       "      <td>55.854411</td>\n",
       "      <td>37.529070</td>\n",
       "      <td>0.20401</td>\n",
       "    </tr>\n",
       "    <tr>\n",
       "      <th>56</th>\n",
       "      <td>1690633446</td>\n",
       "      <td>39.0</td>\n",
       "      <td>NaN</td>\n",
       "      <td>Автозаводская,   Кожуховский 2-й проезд 29к2с...</td>\n",
       "      <td>1085</td>\n",
       "      <td>0</td>\n",
       "      <td>ДО КОНЦА 2018 ГОДА МЕСЯЦ АРЕНДЫ ЭТОГО ПОМЕЩЕ...</td>\n",
       "      <td>NaN</td>\n",
       "      <td>NaN</td>\n",
       "      <td>https://www.avito.ru/moskva/kommercheskaya_ned...</td>\n",
       "      <td>1</td>\n",
       "      <td>0</td>\n",
       "      <td>0</td>\n",
       "      <td>1</td>\n",
       "      <td>1</td>\n",
       "      <td>55.698391</td>\n",
       "      <td>37.658248</td>\n",
       "      <td>0.09784</td>\n",
       "    </tr>\n",
       "  </tbody>\n",
       "</table>\n",
       "</div>"
      ],
      "text/plain": [
       "    Unnamed: 0  size class                                            address  \\\n",
       "39  1002926616  57.0   NaN       Петровско-Разумовская,   Лихоборская наб 7     \n",
       "56  1690633446  39.0   NaN   Автозаводская,   Кожуховский 2-й проезд 29к2с...   \n",
       "\n",
       "    price  pledge                                              descr metros  \\\n",
       "39    685       0    Сдаются офис склад на территории бывшего про...    NaN   \n",
       "56   1085       0    ДО КОНЦА 2018 ГОДА МЕСЯЦ АРЕНДЫ ЭТОГО ПОМЕЩЕ...    NaN   \n",
       "\n",
       "    near_metro                                                url  parking  \\\n",
       "39         NaN  https://www.avito.ru/moskva/kommercheskaya_ned...        1   \n",
       "56         NaN  https://www.avito.ru/moskva/kommercheskaya_ned...        1   \n",
       "\n",
       "    internet  meal  security  comfort        lat        lon  distance  \n",
       "39         0     0         0        0  55.854411  37.529070   0.20401  \n",
       "56         0     0         1        1  55.698391  37.658248   0.09784  "
      ]
     },
     "execution_count": 9,
     "metadata": {},
     "output_type": "execute_result"
    }
   ],
   "source": [
    "null_metro.head(2)"
   ]
  },
  {
   "cell_type": "code",
   "execution_count": 11,
   "metadata": {},
   "outputs": [],
   "source": [
    "with open('../apies/yandex_organization_search_api.txt') as f:\n",
    "    apikey = f.readline()"
   ]
  },
  {
   "cell_type": "markdown",
   "metadata": {},
   "source": [
    "Через API можно отправлять только 500 запросов, раз в сутки"
   ]
  },
  {
   "cell_type": "code",
   "execution_count": 12,
   "metadata": {},
   "outputs": [],
   "source": [
    "# for index, row in null_metro.iterrows():\n",
    "#     null_metro.at[index, 'near_metro'] = get_near_metro(row['lon'], row['lat'], apikey)"
   ]
  },
  {
   "cell_type": "code",
   "execution_count": 13,
   "metadata": {},
   "outputs": [],
   "source": [
    "# data[data['near_metro'].isnull()] = null_metro\n",
    "# data.to_csv('got_near_metro.csv')"
   ]
  },
  {
   "cell_type": "markdown",
   "metadata": {},
   "source": [
    "# Class"
   ]
  },
  {
   "cell_type": "code",
   "execution_count": 114,
   "metadata": {},
   "outputs": [],
   "source": [
    "from sklearn.neighbors import KNeighborsClassifier\n",
    "from sklearn.model_selection import train_test_split\n",
    "from sklearn.metrics import mean_squared_error\n",
    "from sklearn.preprocessing import StandardScaler\n",
    "from sklearn.model_selection import cross_val_score"
   ]
  },
  {
   "cell_type": "code",
   "execution_count": 115,
   "metadata": {},
   "outputs": [],
   "source": [
    "data = pd.read_csv('got_near_metro.csv')"
   ]
  },
  {
   "cell_type": "code",
   "execution_count": 116,
   "metadata": {},
   "outputs": [
    {
     "name": "stdout",
     "output_type": "stream",
     "text": [
      "<class 'pandas.core.frame.DataFrame'>\n",
      "RangeIndex: 3155 entries, 0 to 3154\n",
      "Data columns (total 14 columns):\n",
      "Unnamed: 0    3155 non-null int64\n",
      "size          3155 non-null float64\n",
      "class         1954 non-null object\n",
      "price         3155 non-null int64\n",
      "pledge        3155 non-null int64\n",
      "near_metro    3155 non-null float64\n",
      "parking       3155 non-null int64\n",
      "internet      3155 non-null int64\n",
      "meal          3155 non-null int64\n",
      "security      3155 non-null int64\n",
      "comfort       3155 non-null int64\n",
      "lat           3155 non-null float64\n",
      "lon           3155 non-null float64\n",
      "distance      3155 non-null float64\n",
      "dtypes: float64(5), int64(8), object(1)\n",
      "memory usage: 345.2+ KB\n"
     ]
    }
   ],
   "source": [
    "data.info()"
   ]
  },
  {
   "cell_type": "code",
   "execution_count": 117,
   "metadata": {},
   "outputs": [
    {
     "data": {
      "text/html": [
       "<div>\n",
       "<style scoped>\n",
       "    .dataframe tbody tr th:only-of-type {\n",
       "        vertical-align: middle;\n",
       "    }\n",
       "\n",
       "    .dataframe tbody tr th {\n",
       "        vertical-align: top;\n",
       "    }\n",
       "\n",
       "    .dataframe thead th {\n",
       "        text-align: right;\n",
       "    }\n",
       "</style>\n",
       "<table border=\"1\" class=\"dataframe\">\n",
       "  <thead>\n",
       "    <tr style=\"text-align: right;\">\n",
       "      <th></th>\n",
       "      <th>Unnamed: 0</th>\n",
       "      <th>size</th>\n",
       "      <th>class</th>\n",
       "      <th>price</th>\n",
       "      <th>pledge</th>\n",
       "      <th>near_metro</th>\n",
       "      <th>parking</th>\n",
       "      <th>internet</th>\n",
       "      <th>meal</th>\n",
       "      <th>security</th>\n",
       "      <th>comfort</th>\n",
       "      <th>lat</th>\n",
       "      <th>lon</th>\n",
       "      <th>distance</th>\n",
       "    </tr>\n",
       "  </thead>\n",
       "  <tbody>\n",
       "    <tr>\n",
       "      <th>0</th>\n",
       "      <td>0</td>\n",
       "      <td>28.8</td>\n",
       "      <td>NaN</td>\n",
       "      <td>1354</td>\n",
       "      <td>39000</td>\n",
       "      <td>700.0</td>\n",
       "      <td>0</td>\n",
       "      <td>0</td>\n",
       "      <td>0</td>\n",
       "      <td>0</td>\n",
       "      <td>1</td>\n",
       "      <td>55.745093</td>\n",
       "      <td>37.664815</td>\n",
       "      <td>0.09581</td>\n",
       "    </tr>\n",
       "    <tr>\n",
       "      <th>1</th>\n",
       "      <td>1</td>\n",
       "      <td>588.2</td>\n",
       "      <td>NaN</td>\n",
       "      <td>850</td>\n",
       "      <td>500000</td>\n",
       "      <td>700.0</td>\n",
       "      <td>1</td>\n",
       "      <td>0</td>\n",
       "      <td>0</td>\n",
       "      <td>0</td>\n",
       "      <td>1</td>\n",
       "      <td>55.745093</td>\n",
       "      <td>37.664815</td>\n",
       "      <td>0.09581</td>\n",
       "    </tr>\n",
       "    <tr>\n",
       "      <th>2</th>\n",
       "      <td>2</td>\n",
       "      <td>45.0</td>\n",
       "      <td>NaN</td>\n",
       "      <td>1111</td>\n",
       "      <td>50000</td>\n",
       "      <td>200.0</td>\n",
       "      <td>1</td>\n",
       "      <td>0</td>\n",
       "      <td>0</td>\n",
       "      <td>1</td>\n",
       "      <td>0</td>\n",
       "      <td>55.759659</td>\n",
       "      <td>37.752850</td>\n",
       "      <td>0.27184</td>\n",
       "    </tr>\n",
       "    <tr>\n",
       "      <th>3</th>\n",
       "      <td>3</td>\n",
       "      <td>100.0</td>\n",
       "      <td>NaN</td>\n",
       "      <td>1700</td>\n",
       "      <td>170000</td>\n",
       "      <td>700.0</td>\n",
       "      <td>1</td>\n",
       "      <td>0</td>\n",
       "      <td>0</td>\n",
       "      <td>1</td>\n",
       "      <td>0</td>\n",
       "      <td>55.569026</td>\n",
       "      <td>37.588647</td>\n",
       "      <td>0.19060</td>\n",
       "    </tr>\n",
       "    <tr>\n",
       "      <th>4</th>\n",
       "      <td>4</td>\n",
       "      <td>190.0</td>\n",
       "      <td>NaN</td>\n",
       "      <td>789</td>\n",
       "      <td>150000</td>\n",
       "      <td>1200.0</td>\n",
       "      <td>0</td>\n",
       "      <td>1</td>\n",
       "      <td>0</td>\n",
       "      <td>0</td>\n",
       "      <td>0</td>\n",
       "      <td>55.757496</td>\n",
       "      <td>37.802086</td>\n",
       "      <td>0.37023</td>\n",
       "    </tr>\n",
       "  </tbody>\n",
       "</table>\n",
       "</div>"
      ],
      "text/plain": [
       "   Unnamed: 0   size class  price  pledge  near_metro  parking  internet  \\\n",
       "0           0   28.8   NaN   1354   39000       700.0        0         0   \n",
       "1           1  588.2   NaN    850  500000       700.0        1         0   \n",
       "2           2   45.0   NaN   1111   50000       200.0        1         0   \n",
       "3           3  100.0   NaN   1700  170000       700.0        1         0   \n",
       "4           4  190.0   NaN    789  150000      1200.0        0         1   \n",
       "\n",
       "   meal  security  comfort        lat        lon  distance  \n",
       "0     0         0        1  55.745093  37.664815   0.09581  \n",
       "1     0         0        1  55.745093  37.664815   0.09581  \n",
       "2     0         1        0  55.759659  37.752850   0.27184  \n",
       "3     0         1        0  55.569026  37.588647   0.19060  \n",
       "4     0         0        0  55.757496  37.802086   0.37023  "
      ]
     },
     "execution_count": 117,
     "metadata": {},
     "output_type": "execute_result"
    }
   ],
   "source": [
    "data.head(5)"
   ]
  },
  {
   "cell_type": "markdown",
   "metadata": {},
   "source": [
    "Нужно разделить на обучающую и целевую выборку."
   ]
  },
  {
   "cell_type": "code",
   "execution_count": 118,
   "metadata": {},
   "outputs": [],
   "source": [
    "null_classes = data[data['class'].isnull()]\n",
    "not_null_classes = data[~data['class'].isnull()]"
   ]
  },
  {
   "cell_type": "markdown",
   "metadata": {},
   "source": [
    "Заполним Nan-ы knn - ом."
   ]
  },
  {
   "cell_type": "code",
   "execution_count": 119,
   "metadata": {},
   "outputs": [
    {
     "data": {
      "text/html": [
       "<div>\n",
       "<style scoped>\n",
       "    .dataframe tbody tr th:only-of-type {\n",
       "        vertical-align: middle;\n",
       "    }\n",
       "\n",
       "    .dataframe tbody tr th {\n",
       "        vertical-align: top;\n",
       "    }\n",
       "\n",
       "    .dataframe thead th {\n",
       "        text-align: right;\n",
       "    }\n",
       "</style>\n",
       "<table border=\"1\" class=\"dataframe\">\n",
       "  <thead>\n",
       "    <tr style=\"text-align: right;\">\n",
       "      <th></th>\n",
       "      <th>Unnamed: 0</th>\n",
       "      <th>size</th>\n",
       "      <th>class</th>\n",
       "      <th>price</th>\n",
       "      <th>pledge</th>\n",
       "      <th>near_metro</th>\n",
       "      <th>parking</th>\n",
       "      <th>internet</th>\n",
       "      <th>meal</th>\n",
       "      <th>security</th>\n",
       "      <th>comfort</th>\n",
       "      <th>lat</th>\n",
       "      <th>lon</th>\n",
       "      <th>distance</th>\n",
       "    </tr>\n",
       "  </thead>\n",
       "  <tbody>\n",
       "    <tr>\n",
       "      <th>0</th>\n",
       "      <td>0</td>\n",
       "      <td>28.8</td>\n",
       "      <td>NaN</td>\n",
       "      <td>1354</td>\n",
       "      <td>39000</td>\n",
       "      <td>700.0</td>\n",
       "      <td>0</td>\n",
       "      <td>0</td>\n",
       "      <td>0</td>\n",
       "      <td>0</td>\n",
       "      <td>1</td>\n",
       "      <td>55.745093</td>\n",
       "      <td>37.664815</td>\n",
       "      <td>0.09581</td>\n",
       "    </tr>\n",
       "    <tr>\n",
       "      <th>1</th>\n",
       "      <td>1</td>\n",
       "      <td>588.2</td>\n",
       "      <td>NaN</td>\n",
       "      <td>850</td>\n",
       "      <td>500000</td>\n",
       "      <td>700.0</td>\n",
       "      <td>1</td>\n",
       "      <td>0</td>\n",
       "      <td>0</td>\n",
       "      <td>0</td>\n",
       "      <td>1</td>\n",
       "      <td>55.745093</td>\n",
       "      <td>37.664815</td>\n",
       "      <td>0.09581</td>\n",
       "    </tr>\n",
       "    <tr>\n",
       "      <th>2</th>\n",
       "      <td>2</td>\n",
       "      <td>45.0</td>\n",
       "      <td>NaN</td>\n",
       "      <td>1111</td>\n",
       "      <td>50000</td>\n",
       "      <td>200.0</td>\n",
       "      <td>1</td>\n",
       "      <td>0</td>\n",
       "      <td>0</td>\n",
       "      <td>1</td>\n",
       "      <td>0</td>\n",
       "      <td>55.759659</td>\n",
       "      <td>37.752850</td>\n",
       "      <td>0.27184</td>\n",
       "    </tr>\n",
       "    <tr>\n",
       "      <th>3</th>\n",
       "      <td>3</td>\n",
       "      <td>100.0</td>\n",
       "      <td>NaN</td>\n",
       "      <td>1700</td>\n",
       "      <td>170000</td>\n",
       "      <td>700.0</td>\n",
       "      <td>1</td>\n",
       "      <td>0</td>\n",
       "      <td>0</td>\n",
       "      <td>1</td>\n",
       "      <td>0</td>\n",
       "      <td>55.569026</td>\n",
       "      <td>37.588647</td>\n",
       "      <td>0.19060</td>\n",
       "    </tr>\n",
       "    <tr>\n",
       "      <th>4</th>\n",
       "      <td>4</td>\n",
       "      <td>190.0</td>\n",
       "      <td>NaN</td>\n",
       "      <td>789</td>\n",
       "      <td>150000</td>\n",
       "      <td>1200.0</td>\n",
       "      <td>0</td>\n",
       "      <td>1</td>\n",
       "      <td>0</td>\n",
       "      <td>0</td>\n",
       "      <td>0</td>\n",
       "      <td>55.757496</td>\n",
       "      <td>37.802086</td>\n",
       "      <td>0.37023</td>\n",
       "    </tr>\n",
       "  </tbody>\n",
       "</table>\n",
       "</div>"
      ],
      "text/plain": [
       "   Unnamed: 0   size class  price  pledge  near_metro  parking  internet  \\\n",
       "0           0   28.8   NaN   1354   39000       700.0        0         0   \n",
       "1           1  588.2   NaN    850  500000       700.0        1         0   \n",
       "2           2   45.0   NaN   1111   50000       200.0        1         0   \n",
       "3           3  100.0   NaN   1700  170000       700.0        1         0   \n",
       "4           4  190.0   NaN    789  150000      1200.0        0         1   \n",
       "\n",
       "   meal  security  comfort        lat        lon  distance  \n",
       "0     0         0        1  55.745093  37.664815   0.09581  \n",
       "1     0         0        1  55.745093  37.664815   0.09581  \n",
       "2     0         1        0  55.759659  37.752850   0.27184  \n",
       "3     0         1        0  55.569026  37.588647   0.19060  \n",
       "4     0         0        0  55.757496  37.802086   0.37023  "
      ]
     },
     "execution_count": 119,
     "metadata": {},
     "output_type": "execute_result"
    }
   ],
   "source": [
    "null_classes.head(5)"
   ]
  },
  {
   "cell_type": "code",
   "execution_count": 120,
   "metadata": {},
   "outputs": [
    {
     "data": {
      "text/plain": [
       "array([[-2.94019133e-01, -2.30754993e-01, -8.50470069e-01, ...,\n",
       "        -1.70871113e+00, -1.94841224e+00,  2.01179132e+00],\n",
       "       [-7.75937377e-02,  7.74952482e-02, -5.10802141e-01, ...,\n",
       "         4.21492520e-01,  6.79631533e-01, -3.71951819e-01],\n",
       "       [-3.15468436e-01, -2.03499125e-01, -1.30024871e-03, ...,\n",
       "        -3.84584458e-01, -1.59500452e+00,  1.26580109e+00],\n",
       "       ...,\n",
       "       [-3.01555375e-01, -2.56064014e-01, -8.50470069e-01, ...,\n",
       "        -6.04924269e-01,  4.27774084e-01, -7.10092312e-01],\n",
       "       [ 7.02325369e-02, -2.95000968e-01,  5.08201644e-01, ...,\n",
       "        -2.01991615e+00, -2.90314959e-01, -1.08769485e-01],\n",
       "       [ 1.53110396e+00, -2.44382927e-01, -3.40968177e-01, ...,\n",
       "         5.83403852e-01,  6.38529682e-01, -4.12746002e-01]])"
      ]
     },
     "execution_count": 120,
     "metadata": {},
     "output_type": "execute_result"
    }
   ],
   "source": [
    "X_data = not_null_classes.drop(['Unnamed: 0', 'class', 'price'], axis=1)\n",
    "y_data = not_null_classes['class'].copy()\n",
    "scaler = StandardScaler()\n",
    "X_data = scaler.fit_transform(X_data)\n",
    "X_data"
   ]
  },
  {
   "cell_type": "code",
   "execution_count": 121,
   "metadata": {},
   "outputs": [
    {
     "name": "stdout",
     "output_type": "stream",
     "text": [
      "[0.71428571 0.68421053 0.6969697  0.75757576 0.70229008 0.63358779\n",
      " 0.71538462 0.75968992 0.6744186  0.66666667 0.70542636 0.73643411\n",
      " 0.73643411 0.72093023 0.81395349]\n",
      "Accuracy: 0.71 (+/- 0.08)\n"
     ]
    }
   ],
   "source": [
    "clf = KNeighborsClassifier()\n",
    "scores = cross_val_score(clf, X_data, y_data, cv=15)\n",
    "print(scores)\n",
    "print(\"Accuracy: %0.2f (+/- %0.2f)\" % (scores.mean(), scores.std() * 2))"
   ]
  },
  {
   "cell_type": "code",
   "execution_count": 122,
   "metadata": {},
   "outputs": [
    {
     "data": {
      "text/plain": [
       "KNeighborsClassifier(algorithm='auto', leaf_size=30, metric='minkowski',\n",
       "           metric_params=None, n_jobs=1, n_neighbors=5, p=2,\n",
       "           weights='uniform')"
      ]
     },
     "execution_count": 122,
     "metadata": {},
     "output_type": "execute_result"
    }
   ],
   "source": [
    "clf.fit(X_data, y_data)"
   ]
  },
  {
   "cell_type": "code",
   "execution_count": 123,
   "metadata": {},
   "outputs": [],
   "source": [
    "Target_data = null_classes.drop(['Unnamed: 0', 'class', 'price'], axis=1)\n",
    "Target_data = pd.DataFrame(scaler.transform(Target_data))"
   ]
  },
  {
   "cell_type": "code",
   "execution_count": 124,
   "metadata": {},
   "outputs": [
    {
     "data": {
      "text/html": [
       "<div>\n",
       "<style scoped>\n",
       "    .dataframe tbody tr th:only-of-type {\n",
       "        vertical-align: middle;\n",
       "    }\n",
       "\n",
       "    .dataframe tbody tr th {\n",
       "        vertical-align: top;\n",
       "    }\n",
       "\n",
       "    .dataframe thead th {\n",
       "        text-align: right;\n",
       "    }\n",
       "</style>\n",
       "<table border=\"1\" class=\"dataframe\">\n",
       "  <thead>\n",
       "    <tr style=\"text-align: right;\">\n",
       "      <th></th>\n",
       "      <th>0</th>\n",
       "      <th>1</th>\n",
       "      <th>2</th>\n",
       "      <th>3</th>\n",
       "      <th>4</th>\n",
       "      <th>5</th>\n",
       "      <th>6</th>\n",
       "      <th>7</th>\n",
       "      <th>8</th>\n",
       "      <th>9</th>\n",
       "      <th>10</th>\n",
       "    </tr>\n",
       "  </thead>\n",
       "  <tbody>\n",
       "    <tr>\n",
       "      <th>0</th>\n",
       "      <td>-0.299237</td>\n",
       "      <td>-0.219074</td>\n",
       "      <td>-0.171134</td>\n",
       "      <td>-1.030137</td>\n",
       "      <td>-0.789255</td>\n",
       "      <td>-0.690613</td>\n",
       "      <td>-1.010288</td>\n",
       "      <td>-0.802013</td>\n",
       "      <td>-0.049097</td>\n",
       "      <td>0.560967</td>\n",
       "      <td>-0.593695</td>\n",
       "    </tr>\n",
       "    <tr>\n",
       "      <th>1</th>\n",
       "      <td>0.781731</td>\n",
       "      <td>0.678423</td>\n",
       "      <td>-0.171134</td>\n",
       "      <td>0.970745</td>\n",
       "      <td>-0.789255</td>\n",
       "      <td>-0.690613</td>\n",
       "      <td>-1.010288</td>\n",
       "      <td>-0.802013</td>\n",
       "      <td>-0.049097</td>\n",
       "      <td>0.560967</td>\n",
       "      <td>-0.593695</td>\n",
       "    </tr>\n",
       "    <tr>\n",
       "      <th>2</th>\n",
       "      <td>-0.267932</td>\n",
       "      <td>-0.197659</td>\n",
       "      <td>-1.020304</td>\n",
       "      <td>0.970745</td>\n",
       "      <td>-0.789255</td>\n",
       "      <td>-0.690613</td>\n",
       "      <td>0.989816</td>\n",
       "      <td>-1.227749</td>\n",
       "      <td>0.171273</td>\n",
       "      <td>1.529231</td>\n",
       "      <td>1.027298</td>\n",
       "    </tr>\n",
       "    <tr>\n",
       "      <th>3</th>\n",
       "      <td>-0.161652</td>\n",
       "      <td>0.035963</td>\n",
       "      <td>-0.171134</td>\n",
       "      <td>0.970745</td>\n",
       "      <td>-0.789255</td>\n",
       "      <td>-0.690613</td>\n",
       "      <td>0.989816</td>\n",
       "      <td>-1.227749</td>\n",
       "      <td>-2.712828</td>\n",
       "      <td>-0.276776</td>\n",
       "      <td>0.279190</td>\n",
       "    </tr>\n",
       "    <tr>\n",
       "      <th>4</th>\n",
       "      <td>0.012261</td>\n",
       "      <td>-0.002974</td>\n",
       "      <td>0.678036</td>\n",
       "      <td>-1.030137</td>\n",
       "      <td>1.267017</td>\n",
       "      <td>-0.690613</td>\n",
       "      <td>-1.010288</td>\n",
       "      <td>-1.227749</td>\n",
       "      <td>0.138549</td>\n",
       "      <td>2.070759</td>\n",
       "      <td>1.933334</td>\n",
       "    </tr>\n",
       "  </tbody>\n",
       "</table>\n",
       "</div>"
      ],
      "text/plain": [
       "         0         1         2         3         4         5         6   \\\n",
       "0 -0.299237 -0.219074 -0.171134 -1.030137 -0.789255 -0.690613 -1.010288   \n",
       "1  0.781731  0.678423 -0.171134  0.970745 -0.789255 -0.690613 -1.010288   \n",
       "2 -0.267932 -0.197659 -1.020304  0.970745 -0.789255 -0.690613  0.989816   \n",
       "3 -0.161652  0.035963 -0.171134  0.970745 -0.789255 -0.690613  0.989816   \n",
       "4  0.012261 -0.002974  0.678036 -1.030137  1.267017 -0.690613 -1.010288   \n",
       "\n",
       "         7         8         9         10  \n",
       "0 -0.802013 -0.049097  0.560967 -0.593695  \n",
       "1 -0.802013 -0.049097  0.560967 -0.593695  \n",
       "2 -1.227749  0.171273  1.529231  1.027298  \n",
       "3 -1.227749 -2.712828 -0.276776  0.279190  \n",
       "4 -1.227749  0.138549  2.070759  1.933334  "
      ]
     },
     "execution_count": 124,
     "metadata": {},
     "output_type": "execute_result"
    }
   ],
   "source": [
    "Target_data.head(5)"
   ]
  },
  {
   "cell_type": "code",
   "execution_count": 125,
   "metadata": {},
   "outputs": [],
   "source": [
    "#Target_data['class'] = clf.predict(Target_data)\n",
    "classes = clf.predict(Target_data)"
   ]
  },
  {
   "cell_type": "code",
   "execution_count": 126,
   "metadata": {},
   "outputs": [
    {
     "data": {
      "text/plain": [
       "array(['b', 'b', 'b', ..., 'b', 'b', 'b'], dtype=object)"
      ]
     },
     "execution_count": 126,
     "metadata": {},
     "output_type": "execute_result"
    }
   ],
   "source": [
    "classes"
   ]
  },
  {
   "cell_type": "code",
   "execution_count": 127,
   "metadata": {},
   "outputs": [],
   "source": [
    "data.loc[data['class'].isnull(), 'class'] = classes"
   ]
  },
  {
   "cell_type": "code",
   "execution_count": 130,
   "metadata": {},
   "outputs": [
    {
     "data": {
      "text/html": [
       "<div>\n",
       "<style scoped>\n",
       "    .dataframe tbody tr th:only-of-type {\n",
       "        vertical-align: middle;\n",
       "    }\n",
       "\n",
       "    .dataframe tbody tr th {\n",
       "        vertical-align: top;\n",
       "    }\n",
       "\n",
       "    .dataframe thead th {\n",
       "        text-align: right;\n",
       "    }\n",
       "</style>\n",
       "<table border=\"1\" class=\"dataframe\">\n",
       "  <thead>\n",
       "    <tr style=\"text-align: right;\">\n",
       "      <th></th>\n",
       "      <th>Unnamed: 0</th>\n",
       "      <th>size</th>\n",
       "      <th>class</th>\n",
       "      <th>price</th>\n",
       "      <th>pledge</th>\n",
       "      <th>near_metro</th>\n",
       "      <th>parking</th>\n",
       "      <th>internet</th>\n",
       "      <th>meal</th>\n",
       "      <th>security</th>\n",
       "      <th>comfort</th>\n",
       "      <th>lat</th>\n",
       "      <th>lon</th>\n",
       "      <th>distance</th>\n",
       "    </tr>\n",
       "  </thead>\n",
       "  <tbody>\n",
       "    <tr>\n",
       "      <th>0</th>\n",
       "      <td>0</td>\n",
       "      <td>28.8</td>\n",
       "      <td>b</td>\n",
       "      <td>1354</td>\n",
       "      <td>39000</td>\n",
       "      <td>700.0</td>\n",
       "      <td>0</td>\n",
       "      <td>0</td>\n",
       "      <td>0</td>\n",
       "      <td>0</td>\n",
       "      <td>1</td>\n",
       "      <td>55.745093</td>\n",
       "      <td>37.664815</td>\n",
       "      <td>0.09581</td>\n",
       "    </tr>\n",
       "    <tr>\n",
       "      <th>1</th>\n",
       "      <td>1</td>\n",
       "      <td>588.2</td>\n",
       "      <td>b</td>\n",
       "      <td>850</td>\n",
       "      <td>500000</td>\n",
       "      <td>700.0</td>\n",
       "      <td>1</td>\n",
       "      <td>0</td>\n",
       "      <td>0</td>\n",
       "      <td>0</td>\n",
       "      <td>1</td>\n",
       "      <td>55.745093</td>\n",
       "      <td>37.664815</td>\n",
       "      <td>0.09581</td>\n",
       "    </tr>\n",
       "    <tr>\n",
       "      <th>2</th>\n",
       "      <td>2</td>\n",
       "      <td>45.0</td>\n",
       "      <td>b</td>\n",
       "      <td>1111</td>\n",
       "      <td>50000</td>\n",
       "      <td>200.0</td>\n",
       "      <td>1</td>\n",
       "      <td>0</td>\n",
       "      <td>0</td>\n",
       "      <td>1</td>\n",
       "      <td>0</td>\n",
       "      <td>55.759659</td>\n",
       "      <td>37.752850</td>\n",
       "      <td>0.27184</td>\n",
       "    </tr>\n",
       "    <tr>\n",
       "      <th>3</th>\n",
       "      <td>3</td>\n",
       "      <td>100.0</td>\n",
       "      <td>b</td>\n",
       "      <td>1700</td>\n",
       "      <td>170000</td>\n",
       "      <td>700.0</td>\n",
       "      <td>1</td>\n",
       "      <td>0</td>\n",
       "      <td>0</td>\n",
       "      <td>1</td>\n",
       "      <td>0</td>\n",
       "      <td>55.569026</td>\n",
       "      <td>37.588647</td>\n",
       "      <td>0.19060</td>\n",
       "    </tr>\n",
       "    <tr>\n",
       "      <th>4</th>\n",
       "      <td>4</td>\n",
       "      <td>190.0</td>\n",
       "      <td>c</td>\n",
       "      <td>789</td>\n",
       "      <td>150000</td>\n",
       "      <td>1200.0</td>\n",
       "      <td>0</td>\n",
       "      <td>1</td>\n",
       "      <td>0</td>\n",
       "      <td>0</td>\n",
       "      <td>0</td>\n",
       "      <td>55.757496</td>\n",
       "      <td>37.802086</td>\n",
       "      <td>0.37023</td>\n",
       "    </tr>\n",
       "  </tbody>\n",
       "</table>\n",
       "</div>"
      ],
      "text/plain": [
       "   Unnamed: 0   size class  price  pledge  near_metro  parking  internet  \\\n",
       "0           0   28.8     b   1354   39000       700.0        0         0   \n",
       "1           1  588.2     b    850  500000       700.0        1         0   \n",
       "2           2   45.0     b   1111   50000       200.0        1         0   \n",
       "3           3  100.0     b   1700  170000       700.0        1         0   \n",
       "4           4  190.0     c    789  150000      1200.0        0         1   \n",
       "\n",
       "   meal  security  comfort        lat        lon  distance  \n",
       "0     0         0        1  55.745093  37.664815   0.09581  \n",
       "1     0         0        1  55.745093  37.664815   0.09581  \n",
       "2     0         1        0  55.759659  37.752850   0.27184  \n",
       "3     0         1        0  55.569026  37.588647   0.19060  \n",
       "4     0         0        0  55.757496  37.802086   0.37023  "
      ]
     },
     "execution_count": 130,
     "metadata": {},
     "output_type": "execute_result"
    }
   ],
   "source": [
    "data.head(5)"
   ]
  },
  {
   "cell_type": "code",
   "execution_count": 132,
   "metadata": {},
   "outputs": [],
   "source": [
    "data.drop(['Unnamed: 0'], inplace=True, axis=1)"
   ]
  },
  {
   "cell_type": "code",
   "execution_count": 133,
   "metadata": {},
   "outputs": [],
   "source": [
    "data.to_csv('data_with_classes_and_metros.csv')"
   ]
  },
  {
   "cell_type": "code",
   "execution_count": null,
   "metadata": {},
   "outputs": [],
   "source": []
  }
 ],
 "metadata": {
  "kernelspec": {
   "display_name": "Python 3",
   "language": "python",
   "name": "python3"
  },
  "language_info": {
   "codemirror_mode": {
    "name": "ipython",
    "version": 3
   },
   "file_extension": ".py",
   "mimetype": "text/x-python",
   "name": "python",
   "nbconvert_exporter": "python",
   "pygments_lexer": "ipython3",
   "version": "3.6.5"
  }
 },
 "nbformat": 4,
 "nbformat_minor": 2
}
