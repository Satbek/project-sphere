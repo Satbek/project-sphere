{
 "cells": [
  {
   "cell_type": "markdown",
   "metadata": {},
   "source": [
    "# Заполним пропуски\n",
    "\n",
    "Пропуски есть в near_metro и class"
   ]
  },
  {
   "cell_type": "markdown",
   "metadata": {},
   "source": [
    "# Near metro\n",
    "## Заполним через api yandex \"поиск по организациям\""
   ]
  },
  {
   "cell_type": "code",
   "execution_count": 4,
   "metadata": {},
   "outputs": [],
   "source": [
    "import json\n",
    "import geopy.distance as distance\n",
    "import pandas as pd\n",
    "import requests\n",
    "data = pd.read_csv('../result.csv')"
   ]
  },
  {
   "cell_type": "code",
   "execution_count": 8,
   "metadata": {},
   "outputs": [],
   "source": [
    "def get_near_metro(lon, lat, api_key):\n",
    "    req_text = 'https://search-maps.yandex.ru/v1/?text=метро&ll=' + str(lon) + \",\" + str(lat) + '&lang=ru_RU&results=1&apikey=' + api_key\n",
    "    ans = json.loads(requests.get(req_text).text)\n",
    "    try:\n",
    "        metro_lon, metro_lat = ans['features'][0]['geometry']['coordinates']\n",
    "        result = distance.vincenty((lon, lat), (metro_lon, metro_lat)).m\n",
    "    except:\n",
    "        result = np.nan\n",
    "    return result"
   ]
  },
  {
   "cell_type": "code",
   "execution_count": 6,
   "metadata": {},
   "outputs": [],
   "source": [
    "null_metro = data[data['near_metro'].isnull()]"
   ]
  },
  {
   "cell_type": "code",
   "execution_count": 9,
   "metadata": {},
   "outputs": [
    {
     "data": {
      "text/html": [
       "<div>\n",
       "<style scoped>\n",
       "    .dataframe tbody tr th:only-of-type {\n",
       "        vertical-align: middle;\n",
       "    }\n",
       "\n",
       "    .dataframe tbody tr th {\n",
       "        vertical-align: top;\n",
       "    }\n",
       "\n",
       "    .dataframe thead th {\n",
       "        text-align: right;\n",
       "    }\n",
       "</style>\n",
       "<table border=\"1\" class=\"dataframe\">\n",
       "  <thead>\n",
       "    <tr style=\"text-align: right;\">\n",
       "      <th></th>\n",
       "      <th>Unnamed: 0</th>\n",
       "      <th>size</th>\n",
       "      <th>class</th>\n",
       "      <th>address</th>\n",
       "      <th>price</th>\n",
       "      <th>pledge</th>\n",
       "      <th>descr</th>\n",
       "      <th>metros</th>\n",
       "      <th>near_metro</th>\n",
       "      <th>url</th>\n",
       "      <th>parking</th>\n",
       "      <th>internet</th>\n",
       "      <th>meal</th>\n",
       "      <th>security</th>\n",
       "      <th>comfort</th>\n",
       "      <th>lat</th>\n",
       "      <th>lon</th>\n",
       "      <th>distance</th>\n",
       "    </tr>\n",
       "  </thead>\n",
       "  <tbody>\n",
       "    <tr>\n",
       "      <th>39</th>\n",
       "      <td>1002926616</td>\n",
       "      <td>57.0</td>\n",
       "      <td>NaN</td>\n",
       "      <td>Петровско-Разумовская,   Лихоборская наб 7</td>\n",
       "      <td>685</td>\n",
       "      <td>0</td>\n",
       "      <td>Сдаются офис склад на территории бывшего про...</td>\n",
       "      <td>NaN</td>\n",
       "      <td>NaN</td>\n",
       "      <td>https://www.avito.ru/moskva/kommercheskaya_ned...</td>\n",
       "      <td>1</td>\n",
       "      <td>0</td>\n",
       "      <td>0</td>\n",
       "      <td>0</td>\n",
       "      <td>0</td>\n",
       "      <td>55.854411</td>\n",
       "      <td>37.529070</td>\n",
       "      <td>0.20401</td>\n",
       "    </tr>\n",
       "    <tr>\n",
       "      <th>56</th>\n",
       "      <td>1690633446</td>\n",
       "      <td>39.0</td>\n",
       "      <td>NaN</td>\n",
       "      <td>Автозаводская,   Кожуховский 2-й проезд 29к2с...</td>\n",
       "      <td>1085</td>\n",
       "      <td>0</td>\n",
       "      <td>ДО КОНЦА 2018 ГОДА МЕСЯЦ АРЕНДЫ ЭТОГО ПОМЕЩЕ...</td>\n",
       "      <td>NaN</td>\n",
       "      <td>NaN</td>\n",
       "      <td>https://www.avito.ru/moskva/kommercheskaya_ned...</td>\n",
       "      <td>1</td>\n",
       "      <td>0</td>\n",
       "      <td>0</td>\n",
       "      <td>1</td>\n",
       "      <td>1</td>\n",
       "      <td>55.698391</td>\n",
       "      <td>37.658248</td>\n",
       "      <td>0.09784</td>\n",
       "    </tr>\n",
       "  </tbody>\n",
       "</table>\n",
       "</div>"
      ],
      "text/plain": [
       "    Unnamed: 0  size class                                            address  \\\n",
       "39  1002926616  57.0   NaN       Петровско-Разумовская,   Лихоборская наб 7     \n",
       "56  1690633446  39.0   NaN   Автозаводская,   Кожуховский 2-й проезд 29к2с...   \n",
       "\n",
       "    price  pledge                                              descr metros  \\\n",
       "39    685       0    Сдаются офис склад на территории бывшего про...    NaN   \n",
       "56   1085       0    ДО КОНЦА 2018 ГОДА МЕСЯЦ АРЕНДЫ ЭТОГО ПОМЕЩЕ...    NaN   \n",
       "\n",
       "    near_metro                                                url  parking  \\\n",
       "39         NaN  https://www.avito.ru/moskva/kommercheskaya_ned...        1   \n",
       "56         NaN  https://www.avito.ru/moskva/kommercheskaya_ned...        1   \n",
       "\n",
       "    internet  meal  security  comfort        lat        lon  distance  \n",
       "39         0     0         0        0  55.854411  37.529070   0.20401  \n",
       "56         0     0         1        1  55.698391  37.658248   0.09784  "
      ]
     },
     "execution_count": 9,
     "metadata": {},
     "output_type": "execute_result"
    }
   ],
   "source": [
    "null_metro.head(2)"
   ]
  },
  {
   "cell_type": "code",
   "execution_count": 11,
   "metadata": {},
   "outputs": [],
   "source": [
    "with open('../apies/yandex_organization_search_api.txt') as f:\n",
    "    apikey = f.readline()"
   ]
  },
  {
   "cell_type": "markdown",
   "metadata": {},
   "source": [
    "Через API можно отправлять только 500 запросов, раз в сутки"
   ]
  },
  {
   "cell_type": "code",
   "execution_count": 12,
   "metadata": {},
   "outputs": [],
   "source": [
    "# for index, row in null_metro.iterrows():\n",
    "#     null_metro.at[index, 'near_metro'] = get_near_metro(row['lon'], row['lat'], apikey)"
   ]
  },
  {
   "cell_type": "code",
   "execution_count": 13,
   "metadata": {},
   "outputs": [],
   "source": [
    "# data[data['near_metro'].isnull()] = null_metro\n",
    "# data.to_csv('got_near_metro.csv')"
   ]
  },
  {
   "cell_type": "code",
   "execution_count": 17,
   "metadata": {},
   "outputs": [],
   "source": [
    "data = pd.read_csv('got_near_metro.csv')"
   ]
  },
  {
   "cell_type": "code",
   "execution_count": 18,
   "metadata": {},
   "outputs": [
    {
     "name": "stdout",
     "output_type": "stream",
     "text": [
      "<class 'pandas.core.frame.DataFrame'>\n",
      "RangeIndex: 3155 entries, 0 to 3154\n",
      "Data columns (total 14 columns):\n",
      "Unnamed: 0    3155 non-null int64\n",
      "size          3155 non-null float64\n",
      "class         1954 non-null object\n",
      "price         3155 non-null int64\n",
      "pledge        3155 non-null int64\n",
      "near_metro    3155 non-null float64\n",
      "parking       3155 non-null int64\n",
      "internet      3155 non-null int64\n",
      "meal          3155 non-null int64\n",
      "security      3155 non-null int64\n",
      "comfort       3155 non-null int64\n",
      "lat           3155 non-null float64\n",
      "lon           3155 non-null float64\n",
      "distance      3155 non-null float64\n",
      "dtypes: float64(5), int64(8), object(1)\n",
      "memory usage: 345.2+ KB\n"
     ]
    }
   ],
   "source": [
    "data.info()"
   ]
  },
  {
   "cell_type": "markdown",
   "metadata": {},
   "source": [
    "# Class"
   ]
  },
  {
   "cell_type": "markdown",
   "metadata": {},
   "source": [
    "Нужно разделить на обучающую и целевую выборку."
   ]
  },
  {
   "cell_type": "code",
   "execution_count": 35,
   "metadata": {},
   "outputs": [],
   "source": [
    "null_classes = data[data['class'].isnull()]\n",
    "not_null_classes = data[~data['class'].isnull()]"
   ]
  },
  {
   "cell_type": "markdown",
   "metadata": {},
   "source": [
    "Заполним Nan-ы knn - ом."
   ]
  },
  {
   "cell_type": "code",
   "execution_count": 36,
   "metadata": {},
   "outputs": [
    {
     "data": {
      "text/html": [
       "<div>\n",
       "<style scoped>\n",
       "    .dataframe tbody tr th:only-of-type {\n",
       "        vertical-align: middle;\n",
       "    }\n",
       "\n",
       "    .dataframe tbody tr th {\n",
       "        vertical-align: top;\n",
       "    }\n",
       "\n",
       "    .dataframe thead th {\n",
       "        text-align: right;\n",
       "    }\n",
       "</style>\n",
       "<table border=\"1\" class=\"dataframe\">\n",
       "  <thead>\n",
       "    <tr style=\"text-align: right;\">\n",
       "      <th></th>\n",
       "      <th>Unnamed: 0</th>\n",
       "      <th>size</th>\n",
       "      <th>class</th>\n",
       "      <th>price</th>\n",
       "      <th>pledge</th>\n",
       "      <th>near_metro</th>\n",
       "      <th>parking</th>\n",
       "      <th>internet</th>\n",
       "      <th>meal</th>\n",
       "      <th>security</th>\n",
       "      <th>comfort</th>\n",
       "      <th>lat</th>\n",
       "      <th>lon</th>\n",
       "      <th>distance</th>\n",
       "    </tr>\n",
       "  </thead>\n",
       "  <tbody>\n",
       "    <tr>\n",
       "      <th>0</th>\n",
       "      <td>0</td>\n",
       "      <td>28.8</td>\n",
       "      <td>NaN</td>\n",
       "      <td>1354</td>\n",
       "      <td>39000</td>\n",
       "      <td>700.0</td>\n",
       "      <td>0</td>\n",
       "      <td>0</td>\n",
       "      <td>0</td>\n",
       "      <td>0</td>\n",
       "      <td>1</td>\n",
       "      <td>55.745093</td>\n",
       "      <td>37.664815</td>\n",
       "      <td>0.09581</td>\n",
       "    </tr>\n",
       "    <tr>\n",
       "      <th>1</th>\n",
       "      <td>1</td>\n",
       "      <td>588.2</td>\n",
       "      <td>NaN</td>\n",
       "      <td>850</td>\n",
       "      <td>500000</td>\n",
       "      <td>700.0</td>\n",
       "      <td>1</td>\n",
       "      <td>0</td>\n",
       "      <td>0</td>\n",
       "      <td>0</td>\n",
       "      <td>1</td>\n",
       "      <td>55.745093</td>\n",
       "      <td>37.664815</td>\n",
       "      <td>0.09581</td>\n",
       "    </tr>\n",
       "    <tr>\n",
       "      <th>2</th>\n",
       "      <td>2</td>\n",
       "      <td>45.0</td>\n",
       "      <td>NaN</td>\n",
       "      <td>1111</td>\n",
       "      <td>50000</td>\n",
       "      <td>200.0</td>\n",
       "      <td>1</td>\n",
       "      <td>0</td>\n",
       "      <td>0</td>\n",
       "      <td>1</td>\n",
       "      <td>0</td>\n",
       "      <td>55.759659</td>\n",
       "      <td>37.752850</td>\n",
       "      <td>0.27184</td>\n",
       "    </tr>\n",
       "    <tr>\n",
       "      <th>3</th>\n",
       "      <td>3</td>\n",
       "      <td>100.0</td>\n",
       "      <td>NaN</td>\n",
       "      <td>1700</td>\n",
       "      <td>170000</td>\n",
       "      <td>700.0</td>\n",
       "      <td>1</td>\n",
       "      <td>0</td>\n",
       "      <td>0</td>\n",
       "      <td>1</td>\n",
       "      <td>0</td>\n",
       "      <td>55.569026</td>\n",
       "      <td>37.588647</td>\n",
       "      <td>0.19060</td>\n",
       "    </tr>\n",
       "    <tr>\n",
       "      <th>4</th>\n",
       "      <td>4</td>\n",
       "      <td>190.0</td>\n",
       "      <td>NaN</td>\n",
       "      <td>789</td>\n",
       "      <td>150000</td>\n",
       "      <td>1200.0</td>\n",
       "      <td>0</td>\n",
       "      <td>1</td>\n",
       "      <td>0</td>\n",
       "      <td>0</td>\n",
       "      <td>0</td>\n",
       "      <td>55.757496</td>\n",
       "      <td>37.802086</td>\n",
       "      <td>0.37023</td>\n",
       "    </tr>\n",
       "  </tbody>\n",
       "</table>\n",
       "</div>"
      ],
      "text/plain": [
       "   Unnamed: 0   size class  price  pledge  near_metro  parking  internet  \\\n",
       "0           0   28.8   NaN   1354   39000       700.0        0         0   \n",
       "1           1  588.2   NaN    850  500000       700.0        1         0   \n",
       "2           2   45.0   NaN   1111   50000       200.0        1         0   \n",
       "3           3  100.0   NaN   1700  170000       700.0        1         0   \n",
       "4           4  190.0   NaN    789  150000      1200.0        0         1   \n",
       "\n",
       "   meal  security  comfort        lat        lon  distance  \n",
       "0     0         0        1  55.745093  37.664815   0.09581  \n",
       "1     0         0        1  55.745093  37.664815   0.09581  \n",
       "2     0         1        0  55.759659  37.752850   0.27184  \n",
       "3     0         1        0  55.569026  37.588647   0.19060  \n",
       "4     0         0        0  55.757496  37.802086   0.37023  "
      ]
     },
     "execution_count": 36,
     "metadata": {},
     "output_type": "execute_result"
    }
   ],
   "source": [
    "null_classes.head(5)"
   ]
  },
  {
   "cell_type": "code",
   "execution_count": 60,
   "metadata": {},
   "outputs": [],
   "source": [
    "scaler = StandardScaler()"
   ]
  },
  {
   "cell_type": "code",
   "execution_count": 65,
   "metadata": {},
   "outputs": [
    {
     "data": {
      "text/plain": [
       "array([[-0.29401913, -0.06195927, -0.23075499, ..., -1.70871113,\n",
       "        -1.94841224,  2.01179132],\n",
       "       [-0.07759374,  0.86149217,  0.07749525, ...,  0.42149252,\n",
       "         0.67963153, -0.37195182],\n",
       "       [-0.31546844,  0.01590425, -0.20349912, ..., -0.38458446,\n",
       "        -1.59500452,  1.26580109],\n",
       "       ..., \n",
       "       [-0.30155537, -0.02358545, -0.25606401, ..., -0.60492427,\n",
       "         0.42777408, -0.71009231],\n",
       "       [ 0.07023254, -0.06493495, -0.29500097, ..., -2.01991615,\n",
       "        -0.29031496, -0.10876948],\n",
       "       [ 1.53110396, -0.05978951, -0.24438293, ...,  0.58340385,\n",
       "         0.63852968, -0.412746  ]])"
      ]
     },
     "execution_count": 65,
     "metadata": {},
     "output_type": "execute_result"
    }
   ],
   "source": [
    "from sklearn.neighbors import KNeighborsClassifier\n",
    "from sklearn.model_selection import train_test_split\n",
    "from sklearn.metrics import mean_squared_error\n",
    "from sklearn.preprocessing import StandardScaler\n",
    "X_data = not_null_classes.drop(['Unnamed: 0', 'class'], axis=1)\n",
    "y_data = not_null_classes['class'].copy()\n",
    "scaler.fit(X_data)\n",
    "X_data = scaler.transform(X_data)\n",
    "X_data"
   ]
  },
  {
   "cell_type": "code",
   "execution_count": 66,
   "metadata": {},
   "outputs": [
    {
     "name": "stdout",
     "output_type": "stream",
     "text": [
      "[ 0.71428571  0.68421053  0.6969697   0.75757576  0.70229008  0.63358779\n",
      "  0.73076923  0.75193798  0.66666667  0.65891473  0.69767442  0.72868217\n",
      "  0.72868217  0.72868217  0.82170543]\n",
      "Accuracy: 0.71 (+/- 0.09)\n"
     ]
    }
   ],
   "source": [
    "from sklearn.model_selection import cross_val_score\n",
    "clf = KNeighborsClassifier()\n",
    "scores = cross_val_score(clf, X_data, y_data, cv=15)\n",
    "print(scores)\n",
    "print(\"Accuracy: %0.2f (+/- %0.2f)\" % (scores.mean(), scores.std() * 2))"
   ]
  },
  {
   "cell_type": "code",
   "execution_count": 67,
   "metadata": {},
   "outputs": [
    {
     "data": {
      "text/plain": [
       "KNeighborsClassifier(algorithm='auto', leaf_size=30, metric='minkowski',\n",
       "           metric_params=None, n_jobs=1, n_neighbors=5, p=2,\n",
       "           weights='uniform')"
      ]
     },
     "execution_count": 67,
     "metadata": {},
     "output_type": "execute_result"
    }
   ],
   "source": [
    "clf.fit(X_data, y_data)"
   ]
  },
  {
   "cell_type": "code",
   "execution_count": 70,
   "metadata": {},
   "outputs": [],
   "source": [
    "Target_data = null_classes.drop(['Unnamed: 0', 'class'], axis=1)\n",
    "Target_data = pd.DataFrame(scaler.transform(Target_data))"
   ]
  },
  {
   "cell_type": "code",
   "execution_count": 71,
   "metadata": {},
   "outputs": [],
   "source": [
    "Target_data['class'] = clf.predict(Target_data)"
   ]
  },
  {
   "cell_type": "code",
   "execution_count": 72,
   "metadata": {},
   "outputs": [
    {
     "name": "stderr",
     "output_type": "stream",
     "text": [
      "C:\\ProgramData\\Anaconda3\\lib\\site-packages\\ipykernel_launcher.py:1: FutureWarning: Sorting because non-concatenation axis is not aligned. A future version\n",
      "of pandas will change to not sort by default.\n",
      "\n",
      "To accept the future behavior, pass 'sort=False'.\n",
      "\n",
      "To retain the current behavior and silence the warning, pass 'sort=True'.\n",
      "\n",
      "  \"\"\"Entry point for launching an IPython kernel.\n"
     ]
    }
   ],
   "source": [
    "Result = pd.concat([not_null_classes, Target_data])"
   ]
  },
  {
   "cell_type": "code",
   "execution_count": 73,
   "metadata": {},
   "outputs": [
    {
     "name": "stdout",
     "output_type": "stream",
     "text": [
      "<class 'pandas.core.frame.DataFrame'>\n",
      "Int64Index: 3155 entries, 5 to 1200\n",
      "Data columns (total 26 columns):\n",
      "Unnamed: 0    1954 non-null float64\n",
      "class         3155 non-null object\n",
      "comfort       1954 non-null float64\n",
      "distance      1954 non-null float64\n",
      "internet      1954 non-null float64\n",
      "lat           1954 non-null float64\n",
      "lon           1954 non-null float64\n",
      "meal          1954 non-null float64\n",
      "near_metro    1954 non-null float64\n",
      "parking       1954 non-null float64\n",
      "pledge        1954 non-null float64\n",
      "price         1954 non-null float64\n",
      "security      1954 non-null float64\n",
      "size          1954 non-null float64\n",
      "0             1201 non-null float64\n",
      "1             1201 non-null float64\n",
      "2             1201 non-null float64\n",
      "3             1201 non-null float64\n",
      "4             1201 non-null float64\n",
      "5             1201 non-null float64\n",
      "6             1201 non-null float64\n",
      "7             1201 non-null float64\n",
      "8             1201 non-null float64\n",
      "9             1201 non-null float64\n",
      "10            1201 non-null float64\n",
      "11            1201 non-null float64\n",
      "dtypes: float64(25), object(1)\n",
      "memory usage: 665.5+ KB\n"
     ]
    }
   ],
   "source": [
    "Result.info()"
   ]
  },
  {
   "cell_type": "code",
   "execution_count": null,
   "metadata": {},
   "outputs": [],
   "source": []
  }
 ],
 "metadata": {
  "kernelspec": {
   "display_name": "Python 3",
   "language": "python",
   "name": "python3"
  },
  "language_info": {
   "codemirror_mode": {
    "name": "ipython",
    "version": 3
   },
   "file_extension": ".py",
   "mimetype": "text/x-python",
   "name": "python",
   "nbconvert_exporter": "python",
   "pygments_lexer": "ipython3",
   "version": "3.7.0"
  }
 },
 "nbformat": 4,
 "nbformat_minor": 2
}
