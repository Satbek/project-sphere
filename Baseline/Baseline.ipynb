{
 "cells": [
  {
   "cell_type": "code",
   "execution_count": 81,
   "metadata": {},
   "outputs": [],
   "source": [
    "%matplotlib inline\n",
    "import matplotlib.pyplot as plt\n",
    "import pandas as pd\n",
    "import numpy as np\n",
    "import seaborn as sns\n",
    "from sklearn.preprocessing import StandardScaler\n",
    "from sklearn.tree import DecisionTreeRegressor\n",
    "from sklearn.model_selection import train_test_split\n",
    "from sklearn.metrics import mean_squared_error"
   ]
  },
  {
   "cell_type": "code",
   "execution_count": 120,
   "metadata": {},
   "outputs": [],
   "source": [
    "df = pd.read_csv('../datasets/data_with_classes_and_metros.csv')\n",
    "df.drop(['Unnamed: 0'], inplace=True, axis=1)"
   ]
  },
  {
   "cell_type": "code",
   "execution_count": 125,
   "metadata": {},
   "outputs": [
    {
     "data": {
      "text/plain": [
       "<matplotlib.axes._subplots.AxesSubplot at 0x1381c78a470>"
      ]
     },
     "execution_count": 125,
     "metadata": {},
     "output_type": "execute_result"
    },
    {
     "data": {
      "image/png": "[encoded data removed]",
      "text/plain": [
       "<Figure size 504x720 with 1 Axes>"
      ]
     },
     "metadata": {
      "needs_background": "light"
     },
     "output_type": "display_data"
    }
   ],
   "source": [
    "scaler = StandardScaler()\n",
    "#df = scaler.fit_transform(df)\n",
    "SIZE_CUT_VALUE = 700\n",
    "PRICE_CUT_VALUE = 4500\n",
    "plt.subplots(figsize=(7,10))\n",
    "df = df[(df.price < PRICE_CUT_VALUE) & (df['size'] < SIZE_CUT_VALUE)]\n",
    "sns.boxplot(x='class', y = 'price', data=df)"
   ]
  },
  {
   "cell_type": "code",
   "execution_count": 126,
   "metadata": {},
   "outputs": [],
   "source": [
    "X = df.drop(['price'],axis = 1)\n",
    "y = df['price']\n",
    "X_train, X_test, y_train, y_test = train_test_split(X, y, test_size=0.33, random_state=42 )"
   ]
  },
  {
   "cell_type": "code",
   "execution_count": 132,
   "metadata": {},
   "outputs": [],
   "source": [
    "def base_line_predict(X_test, X_train, y_train, numeric_class = False):\n",
    "    \"\"\"\n",
    "    Возвращает среднюю классу цену \n",
    "    \"\"\"\n",
    "    if numeric_class == True:\n",
    "        a_mean = y_train.loc[X_train[X_train['class'] == 0].index].mean()\n",
    "        b_mean = y_train.loc[X_train[X_train['class'] == 1].index].mean()\n",
    "        c_mean = y_train.loc[X_train[X_train['class'] == 2].index].mean()\n",
    "        d_mean = y_train.loc[X_train[X_train['class'] == 3].index].mean()\n",
    "    else:\n",
    "        a_mean = y_train.loc[X_train[X_train['class'] == 'a'].index].mean()\n",
    "        b_mean = y_train.loc[X_train[X_train['class'] == 'b'].index].mean()\n",
    "        c_mean = y_train.loc[X_train[X_train['class'] == 'c'].index].mean()\n",
    "        d_mean = y_train.loc[X_train[X_train['class'] == 'd'].index].mean()\n",
    "    y_pred = pd.Series(index = X_test.index)\n",
    "    if numeric_class == True:\n",
    "        y_pred.loc[X_test[X_test['class'] == 0].index] = a_mean\n",
    "        y_pred.loc[X_test[X_test['class'] == 1].index] = b_mean\n",
    "        y_pred.loc[X_test[X_test['class'] == 2].index] = c_mean\n",
    "        y_pred.loc[X_test[X_test['class'] == 3].index] = d_mean\n",
    "    else:\n",
    "        y_pred.loc[X_test[X_test['class'] == 'a'].index] = a_mean\n",
    "        y_pred.loc[X_test[X_test['class'] == 'b'].index] = b_mean\n",
    "        y_pred.loc[X_test[X_test['class'] == 'c'].index] = c_mean\n",
    "        y_pred.loc[X_test[X_test['class'] == 'd'].index] = d_mean\n",
    "    return y_pred"
   ]
  },
  {
   "cell_type": "code",
   "execution_count": 131,
   "metadata": {},
   "outputs": [
    {
     "data": {
      "text/plain": [
       "372073.01492074475"
      ]
     },
     "execution_count": 131,
     "metadata": {},
     "output_type": "execute_result"
    }
   ],
   "source": [
    "mean_squared_error(y_pred=base_line_predict(X_test, X_train, y_train), y_true=y_test)"
   ]
  }
 ],
 "metadata": {
  "kernelspec": {
   "display_name": "Python 3",
   "language": "python",
   "name": "python3"
  },
  "language_info": {
   "codemirror_mode": {
    "name": "ipython",
    "version": 3
   },
   "file_extension": ".py",
   "mimetype": "text/x-python",
   "name": "python",
   "nbconvert_exporter": "python",
   "pygments_lexer": "ipython3",
   "version": "3.7.0"
  }
 },
 "nbformat": 4,
 "nbformat_minor": 2
}
