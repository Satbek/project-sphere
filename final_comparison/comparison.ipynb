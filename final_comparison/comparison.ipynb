{
 "cells": [
  {
   "cell_type": "markdown",
   "metadata": {},
   "source": [
    "Сравнение результатов всех моделей и бейзлайна"
   ]
  },
  {
   "cell_type": "code",
   "execution_count": 155,
   "metadata": {},
   "outputs": [],
   "source": [
    "%matplotlib inline\n",
    "import matplotlib.pyplot as plt\n",
    "import pandas as pd\n",
    "import numpy as np\n",
    "import seaborn as sns\n",
    "from sklearn.preprocessing import StandardScaler\n",
    "from sklearn.tree import DecisionTreeRegressor\n",
    "from sklearn.model_selection import train_test_split\n",
    "from sklearn.metrics import mean_squared_error as mse\n",
    "from sklearn.model_selection import cross_val_score\n",
    "from sklearn.neighbors import KNeighborsRegressor\n",
    "KNN = KNeighborsRegressor\n",
    "from sklearn import linear_model\n",
    "lm = linear_model\n",
    "import sys\n",
    "sys.path.append('../data proccessing/')\n",
    "from api_util import get_near_metro\n",
    "from sklearn.neighbors import KNeighborsClassifier\n",
    "from sklearn.model_selection import cross_val_score"
   ]
  },
  {
   "cell_type": "code",
   "execution_count": 156,
   "metadata": {},
   "outputs": [
    {
     "name": "stdout",
     "output_type": "stream",
     "text": [
      "    size class  price  pledge  near_metro  parking  internet  meal  security  \\\n",
      "0   28.8     b   1354   39000       700.0        0         0     0         0   \n",
      "1  588.2     b    850  500000       700.0        1         0     0         0   \n",
      "2   45.0     b   1111   50000       200.0        1         0     0         1   \n",
      "3  100.0     b   1700  170000       700.0        1         0     0         1   \n",
      "4  190.0     c    789  150000      1200.0        0         1     0         0   \n",
      "\n",
      "   comfort        lat        lon  distance  \n",
      "0        1  55.745093  37.664815   0.09581  \n",
      "1        1  55.745093  37.664815   0.09581  \n",
      "2        0  55.759659  37.752850   0.27184  \n",
      "3        0  55.569026  37.588647   0.19060  \n",
      "4        0  55.757496  37.802086   0.37023  \n"
     ]
    }
   ],
   "source": [
    "SIZE_CUT_VALUE = 700\n",
    "PRICE_CUT_VALUE = 4500\n",
    "\n",
    "df_train = pd.read_csv('../datasets/data_with_classes_and_metros.csv')\n",
    "df_train = df_train[(df_train.price < PRICE_CUT_VALUE) &\n",
    "                    (df_train['size'] < SIZE_CUT_VALUE)]\n",
    "\n",
    "df_test = pd.read_csv('../datasets/result_test.csv')\n",
    "df_test = df_test[(df_test.price < PRICE_CUT_VALUE) &\n",
    "                    (df_test['size'] < SIZE_CUT_VALUE)]\n",
    "\n",
    "df_train.drop(['Unnamed: 0'], inplace=True, axis=1)\n",
    "print(df_train.head(5))"
   ]
  },
  {
   "cell_type": "code",
   "execution_count": 157,
   "metadata": {},
   "outputs": [
    {
     "name": "stdout",
     "output_type": "stream",
     "text": [
      "   size class  price  pledge  near_metro  parking  internet  meal  security  \\\n",
      "1   8.0     a   1250   10000       300.0        0         1     0         0   \n",
      "2  20.0     b   1450   29000       600.0        0         1     0         0   \n",
      "3  34.5     b   1043   36000       600.0        1         0     1         1   \n",
      "4  15.0   NaN   2667   40000       300.0        0         1     1         1   \n",
      "5  39.7   NaN   1700   67490       200.0        0         1     1         1   \n",
      "\n",
      "   comfort        lat        lon  distance  \n",
      "1        4  55.747115  37.539078   0.15589  \n",
      "2        3  55.740466  37.521471   0.19135  \n",
      "3        0  55.830695  37.431010   0.38042  \n",
      "4        5  55.758174  37.634290   0.03532  \n",
      "5        4  55.743320  37.650523   0.06748  \n"
     ]
    }
   ],
   "source": [
    "df_test.drop(['Unnamed: 0', 'address', 'descr', 'url', 'metros'], inplace=True, axis=1)\n",
    "print(df_test.head(5))"
   ]
  },
  {
   "cell_type": "markdown",
   "metadata": {},
   "source": [
    "# Nan-ы в ближайшем метро"
   ]
  },
  {
   "cell_type": "code",
   "execution_count": 158,
   "metadata": {},
   "outputs": [],
   "source": [
    "# пока что просто их выкину, все равно больше 900 знаечний осталось\n",
    "# df_test.dropna(subset=['class', 'near_metro'], inplace=True)\n",
    "null_metro = df_test[df_test['near_metro'].isnull()]"
   ]
  },
  {
   "cell_type": "code",
   "execution_count": 124,
   "metadata": {},
   "outputs": [
    {
     "data": {
      "text/plain": [
       "(1490, 13)"
      ]
     },
     "execution_count": 124,
     "metadata": {},
     "output_type": "execute_result"
    }
   ],
   "source": [
    "df_test.shape"
   ]
  },
  {
   "cell_type": "code",
   "execution_count": 125,
   "metadata": {},
   "outputs": [],
   "source": [
    "with open('../apies/yandex_organization_search_api.txt') as f:\n",
    "    apikey = f.readline()"
   ]
  },
  {
   "cell_type": "code",
   "execution_count": 126,
   "metadata": {},
   "outputs": [],
   "source": [
    "for index, row in null_metro.iterrows():\n",
    "    null_metro.at[index, 'near_metro'] = get_near_metro(row['lon'], row['lat'], apikey)"
   ]
  },
  {
   "cell_type": "code",
   "execution_count": 127,
   "metadata": {},
   "outputs": [],
   "source": [
    "df_test[df_test['near_metro'].isnull()] = null_metro"
   ]
  },
  {
   "cell_type": "markdown",
   "metadata": {},
   "source": [
    "# Nan-ы в классах"
   ]
  },
  {
   "cell_type": "code",
   "execution_count": 118,
   "metadata": {},
   "outputs": [],
   "source": [
    "def fill_class_Nans(df):\n",
    "    null_classes = df[df['class'].isnull()].drop(['price'], axis=1)\n",
    "    not_null_classes = df[~df['class'].isnull()].drop(['price'], axis=1)\n",
    "    ohe_features = ['parking', 'internet', 'meal', 'security']\n",
    "    X_data = not_null_classes.drop(['class'], axis=1)\n",
    "    X_data.drop(ohe_features, axis=1, inplace=True)\n",
    "    y_data = not_null_classes['class'].copy()\n",
    "    scaler = StandardScaler()\n",
    "    X_data = scaler.fit_transform(X_data)\n",
    "    for feature in ohe_features:\n",
    "        X_data = np.append(X_data, np.array([not_null_classes[feature]]).T, axis=1)\n",
    "    clf = KNeighborsClassifier()\n",
    "    scores = cross_val_score(clf, X_data, y_data, cv=5)\n",
    "    print(scores)\n",
    "    print(\"Accuracy: %0.2f (+/- %0.2f)\" % (scores.mean(), scores.std() * 2))\n",
    "    clf.fit(X_data, y_data)\n",
    "    Target_data = null_classes.drop(['class'], axis=1)\n",
    "    Target_data.drop(ohe_features, axis=1, inplace=True)\n",
    "    Target_data = pd.DataFrame(scaler.transform(Target_data))\n",
    "    for feature in ohe_features:\n",
    "        Target_data = np.append(Target_data, np.array([null_classes[feature]]).T, axis=1)\n",
    "    classes = clf.predict(Target_data)\n",
    "    df.loc[df['class'].isnull(), 'class'] = classes"
   ]
  },
  {
   "cell_type": "code",
   "execution_count": 129,
   "metadata": {},
   "outputs": [
    {
     "name": "stdout",
     "output_type": "stream",
     "text": [
      "[ 0.7032967   0.66850829  0.65        0.74301676  0.68715084]\n",
      "Accuracy: 0.69 (+/- 0.06)\n"
     ]
    }
   ],
   "source": [
    "fill_class_Nans(df_test)"
   ]
  },
  {
   "cell_type": "code",
   "execution_count": 132,
   "metadata": {},
   "outputs": [],
   "source": [
    "df_test.to_csv('test_data_with_metro_classes.csv')"
   ]
  },
  {
   "cell_type": "code",
   "execution_count": 174,
   "metadata": {},
   "outputs": [
    {
     "data": {
      "text/html": [
       "<div>\n",
       "<style scoped>\n",
       "    .dataframe tbody tr th:only-of-type {\n",
       "        vertical-align: middle;\n",
       "    }\n",
       "\n",
       "    .dataframe tbody tr th {\n",
       "        vertical-align: top;\n",
       "    }\n",
       "\n",
       "    .dataframe thead th {\n",
       "        text-align: right;\n",
       "    }\n",
       "</style>\n",
       "<table border=\"1\" class=\"dataframe\">\n",
       "  <thead>\n",
       "    <tr style=\"text-align: right;\">\n",
       "      <th></th>\n",
       "      <th>size</th>\n",
       "      <th>class</th>\n",
       "      <th>price</th>\n",
       "      <th>pledge</th>\n",
       "      <th>near_metro</th>\n",
       "      <th>parking</th>\n",
       "      <th>internet</th>\n",
       "      <th>meal</th>\n",
       "      <th>security</th>\n",
       "      <th>comfort</th>\n",
       "      <th>lat</th>\n",
       "      <th>lon</th>\n",
       "      <th>distance</th>\n",
       "    </tr>\n",
       "  </thead>\n",
       "  <tbody>\n",
       "    <tr>\n",
       "      <th>0</th>\n",
       "      <td>8.0</td>\n",
       "      <td>a</td>\n",
       "      <td>1250</td>\n",
       "      <td>10000</td>\n",
       "      <td>300.0</td>\n",
       "      <td>0</td>\n",
       "      <td>1</td>\n",
       "      <td>0</td>\n",
       "      <td>0</td>\n",
       "      <td>4</td>\n",
       "      <td>55.747115</td>\n",
       "      <td>37.539078</td>\n",
       "      <td>0.15589</td>\n",
       "    </tr>\n",
       "    <tr>\n",
       "      <th>1</th>\n",
       "      <td>20.0</td>\n",
       "      <td>b</td>\n",
       "      <td>1450</td>\n",
       "      <td>29000</td>\n",
       "      <td>600.0</td>\n",
       "      <td>0</td>\n",
       "      <td>1</td>\n",
       "      <td>0</td>\n",
       "      <td>0</td>\n",
       "      <td>3</td>\n",
       "      <td>55.740466</td>\n",
       "      <td>37.521471</td>\n",
       "      <td>0.19135</td>\n",
       "    </tr>\n",
       "    <tr>\n",
       "      <th>2</th>\n",
       "      <td>34.5</td>\n",
       "      <td>b</td>\n",
       "      <td>1043</td>\n",
       "      <td>36000</td>\n",
       "      <td>600.0</td>\n",
       "      <td>1</td>\n",
       "      <td>0</td>\n",
       "      <td>1</td>\n",
       "      <td>1</td>\n",
       "      <td>0</td>\n",
       "      <td>55.830695</td>\n",
       "      <td>37.431010</td>\n",
       "      <td>0.38042</td>\n",
       "    </tr>\n",
       "    <tr>\n",
       "      <th>3</th>\n",
       "      <td>15.0</td>\n",
       "      <td>b</td>\n",
       "      <td>2667</td>\n",
       "      <td>40000</td>\n",
       "      <td>300.0</td>\n",
       "      <td>0</td>\n",
       "      <td>1</td>\n",
       "      <td>1</td>\n",
       "      <td>1</td>\n",
       "      <td>5</td>\n",
       "      <td>55.758174</td>\n",
       "      <td>37.634290</td>\n",
       "      <td>0.03532</td>\n",
       "    </tr>\n",
       "    <tr>\n",
       "      <th>4</th>\n",
       "      <td>39.7</td>\n",
       "      <td>b</td>\n",
       "      <td>1700</td>\n",
       "      <td>67490</td>\n",
       "      <td>200.0</td>\n",
       "      <td>0</td>\n",
       "      <td>1</td>\n",
       "      <td>1</td>\n",
       "      <td>1</td>\n",
       "      <td>4</td>\n",
       "      <td>55.743320</td>\n",
       "      <td>37.650523</td>\n",
       "      <td>0.06748</td>\n",
       "    </tr>\n",
       "  </tbody>\n",
       "</table>\n",
       "</div>"
      ],
      "text/plain": [
       "   size class  price  pledge  near_metro  parking  internet  meal  security  \\\n",
       "0   8.0     a   1250   10000       300.0        0         1     0         0   \n",
       "1  20.0     b   1450   29000       600.0        0         1     0         0   \n",
       "2  34.5     b   1043   36000       600.0        1         0     1         1   \n",
       "3  15.0     b   2667   40000       300.0        0         1     1         1   \n",
       "4  39.7     b   1700   67490       200.0        0         1     1         1   \n",
       "\n",
       "   comfort        lat        lon  distance  \n",
       "0        4  55.747115  37.539078   0.15589  \n",
       "1        3  55.740466  37.521471   0.19135  \n",
       "2        0  55.830695  37.431010   0.38042  \n",
       "3        5  55.758174  37.634290   0.03532  \n",
       "4        4  55.743320  37.650523   0.06748  "
      ]
     },
     "execution_count": 174,
     "metadata": {},
     "output_type": "execute_result"
    }
   ],
   "source": [
    "df_test = pd.read_csv('test_data_with_metro_classes.csv')\n",
    "df_test.drop(['Unnamed: 0'], inplace=True, axis=1)\n",
    "df_test.head(5)"
   ]
  },
  {
   "cell_type": "markdown",
   "metadata": {},
   "source": [
    "# Train Test Split"
   ]
  },
  {
   "cell_type": "code",
   "execution_count": 175,
   "metadata": {},
   "outputs": [],
   "source": [
    "from sklearn import preprocessing\n",
    "le = preprocessing.LabelEncoder()\n",
    "df_train['class'] = le.fit_transform(df_train['class'])\n",
    "df_test['class'] = le.fit_transform(df_test['class'])"
   ]
  },
  {
   "cell_type": "code",
   "execution_count": 176,
   "metadata": {},
   "outputs": [],
   "source": [
    "X_train = df_train.drop(['price'], axis=1)\n",
    "y_train = df_train['price'].copy()"
   ]
  },
  {
   "cell_type": "code",
   "execution_count": 177,
   "metadata": {},
   "outputs": [],
   "source": [
    "X_test = df_test.drop(['price'], axis=1)\n",
    "y_test = df_test['price'].copy()"
   ]
  },
  {
   "cell_type": "markdown",
   "metadata": {},
   "source": [
    "## Baseline"
   ]
  },
  {
   "cell_type": "code",
   "execution_count": 178,
   "metadata": {},
   "outputs": [],
   "source": [
    "def base_line_predict(X_test, X_train, y_train, numeric_class = False):\n",
    "    \"\"\"\n",
    "    Возвращает среднюю классу цену \n",
    "    \"\"\"\n",
    "    if numeric_class == True:\n",
    "        a_mean = y_train.loc[X_train[X_train['class'] == 0].index].mean()\n",
    "        b_mean = y_train.loc[X_train[X_train['class'] == 1].index].mean()\n",
    "        c_mean = y_train.loc[X_train[X_train['class'] == 2].index].mean()\n",
    "        d_mean = y_train.loc[X_train[X_train['class'] == 3].index].mean()\n",
    "    else:\n",
    "        a_mean = y_train.loc[X_train[X_train['class'] == 'a'].index].mean()\n",
    "        b_mean = y_train.loc[X_train[X_train['class'] == 'b'].index].mean()\n",
    "        c_mean = y_train.loc[X_train[X_train['class'] == 'c'].index].mean()\n",
    "        d_mean = y_train.loc[X_train[X_train['class'] == 'd'].index].mean()\n",
    "    y_pred = pd.Series(index = X_test.index)\n",
    "    if numeric_class == True:\n",
    "        y_pred.loc[X_test[X_test['class'] == 0].index] = a_mean\n",
    "        y_pred.loc[X_test[X_test['class'] == 1].index] = b_mean\n",
    "        y_pred.loc[X_test[X_test['class'] == 2].index] = c_mean\n",
    "        y_pred.loc[X_test[X_test['class'] == 3].index] = d_mean\n",
    "    else:\n",
    "        y_pred.loc[X_test[X_test['class'] == 'a'].index] = a_mean\n",
    "        y_pred.loc[X_test[X_test['class'] == 'b'].index] = b_mean\n",
    "        y_pred.loc[X_test[X_test['class'] == 'c'].index] = c_mean\n",
    "        y_pred.loc[X_test[X_test['class'] == 'd'].index] = d_mean\n",
    "    return y_pred"
   ]
  },
  {
   "cell_type": "code",
   "execution_count": 179,
   "metadata": {},
   "outputs": [
    {
     "name": "stdout",
     "output_type": "stream",
     "text": [
      "baseline is 614.5\n"
     ]
    }
   ],
   "source": [
    "bs_pred = base_line_predict(X_test=X_test, X_train=X_train,\n",
    "                                     y_train=y_train, numeric_class=True)\n",
    "\n",
    "print(\"baseline is {:5.1f}\".format(np.sqrt(mse(y_true=y_test, y_pred=bs_pred))))"
   ]
  },
  {
   "cell_type": "markdown",
   "metadata": {},
   "source": [
    "## Несколько моделей с деревьями"
   ]
  },
  {
   "cell_type": "code",
   "execution_count": 180,
   "metadata": {},
   "outputs": [
    {
     "name": "stdout",
     "output_type": "stream",
     "text": [
      "Лучшее значение равно 527.9 при глубине дерева равной 6.\n"
     ]
    },
    {
     "data": {
      "image/png": "[encoded data removed]",
      "text/plain": [
       "<Figure size 432x288 with 1 Axes>"
      ]
     },
     "metadata": {
      "needs_background": "light"
     },
     "output_type": "display_data"
    }
   ],
   "source": [
    "trees = range(1, 30)\n",
    "\n",
    "train = []\n",
    "test = []\n",
    "\n",
    "for tree in trees:\n",
    "    clf = DecisionTreeRegressor(max_depth=tree, random_state=12345)\n",
    "    clf.fit(X_train, y_train)\n",
    "    \n",
    "    train.append(np.sqrt(mse(y_true=y_train, y_pred=clf.predict(X_train))))\n",
    "    test.append(np.sqrt(mse(y_true=y_test, y_pred=clf.predict(X_test))))\n",
    "\n",
    "plt.plot(trees, train, label='train')\n",
    "plt.plot(trees, test, label='test')\n",
    "plt.legend()\n",
    "plt.show\n",
    "\n",
    "print(\"Лучшее значение равно {:5.1f} при глубине дерева равной {}.\".format(min(test), test.index(min(test))))"
   ]
  },
  {
   "cell_type": "markdown",
   "metadata": {},
   "source": [
    "# Случайный лес (см. Trees.ipynb)"
   ]
  },
  {
   "cell_type": "code",
   "execution_count": 181,
   "metadata": {},
   "outputs": [
    {
     "data": {
      "text/plain": [
       "RandomForestRegressor(bootstrap=True, criterion='mse', max_depth=20,\n",
       "           max_features=11, max_leaf_nodes=None, min_impurity_decrease=0.0,\n",
       "           min_impurity_split=None, min_samples_leaf=1,\n",
       "           min_samples_split=2, min_weight_fraction_leaf=0.0,\n",
       "           n_estimators=100, n_jobs=-1, oob_score=True, random_state=42,\n",
       "           verbose=0, warm_start=False)"
      ]
     },
     "execution_count": 181,
     "metadata": {},
     "output_type": "execute_result"
    }
   ],
   "source": [
    "from sklearn.ensemble import RandomForestRegressor\n",
    "rfr = RandomForestRegressor(n_estimators=100, random_state=42, \n",
    "                            n_jobs=-1, oob_score=True, max_depth=20,\n",
    "                            min_samples_leaf=1, max_features=11)\n",
    "rfr.fit(X_train, y_train)"
   ]
  },
  {
   "cell_type": "code",
   "execution_count": 182,
   "metadata": {},
   "outputs": [
    {
     "data": {
      "text/plain": [
       "0.65757244316075425"
      ]
     },
     "execution_count": 182,
     "metadata": {},
     "output_type": "execute_result"
    }
   ],
   "source": [
    "rfr.oob_score_"
   ]
  },
  {
   "cell_type": "code",
   "execution_count": 183,
   "metadata": {},
   "outputs": [
    {
     "name": "stdout",
     "output_type": "stream",
     "text": [
      "random forest mse: 417.216269505\n"
     ]
    }
   ],
   "source": [
    "print(\"random forest mse:\" ,np.sqrt(mse(y_true=y_test, y_pred=rfr.predict(X_test))))"
   ]
  },
  {
   "cell_type": "markdown",
   "metadata": {},
   "source": [
    "## KNN"
   ]
  },
  {
   "cell_type": "code",
   "execution_count": 184,
   "metadata": {},
   "outputs": [],
   "source": [
    "ohe_features = ['parking', 'internet', 'meal', 'security']"
   ]
  },
  {
   "cell_type": "code",
   "execution_count": 185,
   "metadata": {},
   "outputs": [],
   "source": [
    "X_train = df_train.drop(['price'], axis=1)\n",
    "X_train.drop(ohe_features, axis=1, inplace=True)\n",
    "y_train = df_train['price'].copy()\n",
    "scaler = StandardScaler()\n",
    "X_train = scaler.fit_transform(X_train)\n",
    "for feature in ohe_features:\n",
    "    X_train = np.append(X_train, np.array([df_train[feature]]).T, axis=1)"
   ]
  },
  {
   "cell_type": "code",
   "execution_count": 186,
   "metadata": {},
   "outputs": [],
   "source": [
    "X_test = df_test.drop(['price'], axis=1)\n",
    "X_test.drop(ohe_features, axis=1, inplace=True)\n",
    "y_test = df_test['price'].copy()\n",
    "scaler = StandardScaler()\n",
    "X_test = scaler.fit_transform(X_test)\n",
    "for feature in ohe_features:\n",
    "    X_test = np.append(X_test, np.array([df_test[feature]]).T, axis=1)"
   ]
  },
  {
   "cell_type": "code",
   "execution_count": 187,
   "metadata": {},
   "outputs": [
    {
     "name": "stdout",
     "output_type": "stream",
     "text": [
      "KNN n_neighbors=1 710.5\n",
      "KNN n_neighbors=11 546.5\n",
      "KNN n_neighbors=21 542.6\n",
      "KNN n_neighbors=31 541.5\n",
      "KNN n_neighbors=41 545.2\n",
      "KNN n_neighbors=51 547.9\n",
      "KNN n_neighbors=61 550.6\n",
      "KNN n_neighbors=71 552.1\n",
      "KNN n_neighbors=81 553.1\n",
      "KNN n_neighbors=91 555.6\n"
     ]
    }
   ],
   "source": [
    "n_neighb = range(1, 100, 10)\n",
    "\n",
    "for n in n_neighb:\n",
    "    clf = KNN(n_neighbors=n, weights='distance')\n",
    "    clf.fit(X_train, y_train)\n",
    "    print(\"KNN n_neighbors={} {:5.1f}\".format(n, np.sqrt(mse(y_true=y_test, y_pred=clf.predict(X_test)))))"
   ]
  },
  {
   "cell_type": "markdown",
   "metadata": {},
   "source": [
    "Возле 10 соседей походим поподробнее"
   ]
  },
  {
   "cell_type": "code",
   "execution_count": 188,
   "metadata": {},
   "outputs": [
    {
     "name": "stdout",
     "output_type": "stream",
     "text": [
      "Лучшее значение равно 543.8 при числе соседей равном 18.\n"
     ]
    }
   ],
   "source": [
    "n_neighb = range(1, 20)\n",
    "knn_res = []\n",
    "\n",
    "for n in n_neighb:\n",
    "    clf = KNN(n_neighbors=n, weights='distance')\n",
    "    clf.fit(X_train, y_train)\n",
    "    knn_res.append(np.sqrt(mse(y_true=y_test, y_pred=clf.predict(X_test))))\n",
    "    \n",
    "print(\"Лучшее значение равно {:5.1f} при числе соседей равном {}.\".format(min(knn_res), knn_res.index(min(knn_res))))"
   ]
  },
  {
   "cell_type": "markdown",
   "metadata": {},
   "source": [
    "## Линейная регрессия"
   ]
  },
  {
   "cell_type": "code",
   "execution_count": 189,
   "metadata": {},
   "outputs": [
    {
     "name": "stdout",
     "output_type": "stream",
     "text": [
      "Линейная регрессия 638.1\n"
     ]
    }
   ],
   "source": [
    "clf = lm.LinearRegression()\n",
    "clf.fit(X_train, y_train)\n",
    "print(\"Линейная регрессия {:5.1f}\".format(np.sqrt(mse(y_true=y_test, y_pred=clf.predict(X_test)))))"
   ]
  },
  {
   "cell_type": "code",
   "execution_count": 190,
   "metadata": {},
   "outputs": [
    {
     "name": "stdout",
     "output_type": "stream",
     "text": [
      "Ridge 638.1\n"
     ]
    }
   ],
   "source": [
    "clf = lm.Ridge(alpha=.5)\n",
    "clf.fit(X_train, y_train)\n",
    "print(\"Ridge {:5.1f}\".format(np.sqrt(mse(y_true=y_test, y_pred=clf.predict(X_test)))))"
   ]
  },
  {
   "cell_type": "code",
   "execution_count": 191,
   "metadata": {},
   "outputs": [
    {
     "name": "stdout",
     "output_type": "stream",
     "text": [
      "Lasso 638.0\n"
     ]
    }
   ],
   "source": [
    "clf = lm.Lasso(alpha=.1)\n",
    "clf.fit(X_train, y_train)\n",
    "print(\"Lasso {:5.1f}\".format(np.sqrt(mse(y_true=y_test, y_pred=clf.predict(X_test)))))"
   ]
  }
 ],
 "metadata": {
  "kernelspec": {
   "display_name": "Python 3",
   "language": "python",
   "name": "python3"
  },
  "language_info": {
   "codemirror_mode": {
    "name": "ipython",
    "version": 3
   },
   "file_extension": ".py",
   "mimetype": "text/x-python",
   "name": "python",
   "nbconvert_exporter": "python",
   "pygments_lexer": "ipython3",
   "version": "3.7.0"
  }
 },
 "nbformat": 4,
 "nbformat_minor": 2
}
