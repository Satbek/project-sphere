{
 "cells": [
  {
   "cell_type": "markdown",
   "metadata": {},
   "source": [
    "Сравнение результатов всех моделей и бейзлайна"
   ]
  },
  {
   "cell_type": "code",
   "execution_count": 1,
   "metadata": {},
   "outputs": [],
   "source": [
    "%matplotlib inline\n",
    "import matplotlib.pyplot as plt\n",
    "import pandas as pd\n",
    "import numpy as np\n",
    "import seaborn as sns\n",
    "from sklearn.preprocessing import StandardScaler\n",
    "from sklearn.tree import DecisionTreeRegressor\n",
    "from sklearn.model_selection import train_test_split\n",
    "from sklearn.metrics import mean_squared_error as mse\n",
    "from sklearn.model_selection import cross_val_score\n",
    "from sklearn.neighbors import KNeighborsRegressor\n",
    "KNN = KNeighborsRegressor\n",
    "from sklearn import linear_model\n",
    "lm = linear_model\n",
    "import sys\n",
    "sys.path.append('../data proccessing/')\n",
    "from api_util import get_near_metro\n",
    "from sklearn.neighbors import KNeighborsClassifier\n",
    "from sklearn.model_selection import cross_val_score"
   ]
  },
  {
   "cell_type": "code",
   "execution_count": 2,
   "metadata": {},
   "outputs": [
    {
     "name": "stdout",
     "output_type": "stream",
     "text": [
      "    size class  price  pledge  near_metro  parking  internet  meal  security  \\\n",
      "0   28.8     b   1354   39000       700.0        0         0     0         0   \n",
      "1  588.2     b    850  500000       700.0        1         0     0         0   \n",
      "2   45.0     b   1111   50000       200.0        1         0     0         1   \n",
      "3  100.0     b   1700  170000       700.0        1         0     0         1   \n",
      "4  190.0     c    789  150000      1200.0        0         1     0         0   \n",
      "\n",
      "   comfort        lat        lon  distance  log_size  \n",
      "0        1  55.745093  37.664815   0.09581  3.360375  \n",
      "1        1  55.745093  37.664815   0.09581  6.377067  \n",
      "2        0  55.759659  37.752850   0.27184  3.806662  \n",
      "3        0  55.569026  37.588647   0.19060  4.605170  \n",
      "4        0  55.757496  37.802086   0.37023  5.247024  \n"
     ]
    }
   ],
   "source": [
    "SIZE_CUT_VALUE = 700\n",
    "PRICE_CUT_VALUE = 4500\n",
    "\n",
    "df_train = pd.read_csv('../datasets/data_with_classes_and_metros.csv')\n",
    "df_train = df_train[(df_train.price < PRICE_CUT_VALUE) &\n",
    "                    (df_train['size'] < SIZE_CUT_VALUE)]\n",
    "\n",
    "df_train['log_size'] = pd.Series(df_train['size'].apply(np.log), index=df_train.index)\n",
    "\n",
    "df_test = pd.read_csv('../datasets/test_data_with_metro_classes.csv')\n",
    "df_test = df_test[(df_test.price < PRICE_CUT_VALUE) &\n",
    "                    (df_test['size'] < SIZE_CUT_VALUE)]\n",
    "\n",
    "df_test['log_size'] = pd.Series(df_test['size'].apply(np.log), index=df_test.index)\n",
    "\n",
    "df_train.drop(['Unnamed: 0'], inplace=True, axis=1)\n",
    "print(df_train.head(5))"
   ]
  },
  {
   "cell_type": "code",
   "execution_count": 3,
   "metadata": {},
   "outputs": [
    {
     "name": "stdout",
     "output_type": "stream",
     "text": [
      "   size class  price  pledge  near_metro  parking  internet  meal  security  \\\n",
      "0   8.0     a   1250   10000       300.0        0         1     0         0   \n",
      "1  20.0     b   1450   29000       600.0        0         1     0         0   \n",
      "2  34.5     b   1043   36000       600.0        1         0     1         1   \n",
      "3  15.0     b   2667   40000       300.0        0         1     1         1   \n",
      "4  39.7     b   1700   67490       200.0        0         1     1         1   \n",
      "\n",
      "   comfort        lat        lon  distance  log_size  \n",
      "0        4  55.747115  37.539078   0.15589  2.079442  \n",
      "1        3  55.740466  37.521471   0.19135  2.995732  \n",
      "2        0  55.830695  37.431010   0.38042  3.540959  \n",
      "3        5  55.758174  37.634290   0.03532  2.708050  \n",
      "4        4  55.743320  37.650523   0.06748  3.681351  \n"
     ]
    }
   ],
   "source": [
    "df_test.drop(['Unnamed: 0'], inplace=True, axis=1)\n",
    "# df_test.drop(['Unnamed: 0', 'address', 'descr', 'url', 'metros'], inplace=True, axis=1)\n",
    "print(df_test.head(5))"
   ]
  },
  {
   "cell_type": "markdown",
   "metadata": {},
   "source": [
    "# Nan-ы в ближайшем метро"
   ]
  },
  {
   "cell_type": "code",
   "execution_count": 4,
   "metadata": {},
   "outputs": [],
   "source": [
    "# # df_test.dropna(subset=['class', 'near_metro'], inplace=True)\n",
    "# null_metro = df_test[df_test['near_metro'].isnull()]"
   ]
  },
  {
   "cell_type": "code",
   "execution_count": 5,
   "metadata": {},
   "outputs": [],
   "source": [
    "# df_test.shape"
   ]
  },
  {
   "cell_type": "code",
   "execution_count": 6,
   "metadata": {},
   "outputs": [],
   "source": [
    "# with open('../apies/yandex_organization_search_api.txt') as f:\n",
    "#     apikey = f.readline()"
   ]
  },
  {
   "cell_type": "code",
   "execution_count": 7,
   "metadata": {},
   "outputs": [],
   "source": [
    "# for index, row in null_metro.iterrows():\n",
    "#     null_metro.at[index, 'near_metro'] = get_near_metro(row['lon'], row['lat'], apikey)"
   ]
  },
  {
   "cell_type": "code",
   "execution_count": 8,
   "metadata": {},
   "outputs": [],
   "source": [
    "# df_test[df_test['near_metro'].isnull()] = null_metro"
   ]
  },
  {
   "cell_type": "markdown",
   "metadata": {},
   "source": [
    "# Nan-ы в классах"
   ]
  },
  {
   "cell_type": "code",
   "execution_count": 9,
   "metadata": {},
   "outputs": [],
   "source": [
    "# def fill_class_Nans(df):\n",
    "#     null_classes = df[df['class'].isnull()].drop(['price'], axis=1)\n",
    "#     not_null_classes = df[~df['class'].isnull()].drop(['price'], axis=1)\n",
    "#     ohe_features = ['parking', 'internet', 'meal', 'security']\n",
    "#     X_data = not_null_classes.drop(['class'], axis=1)\n",
    "#     X_data.drop(ohe_features, axis=1, inplace=True)\n",
    "#     y_data = not_null_classes['class'].copy()\n",
    "#     scaler = StandardScaler()\n",
    "#     X_data = scaler.fit_transform(X_data)\n",
    "#     for feature in ohe_features:\n",
    "#         X_data = np.append(X_data, np.array([not_null_classes[feature]]).T, axis=1)\n",
    "#     clf = KNeighborsClassifier()\n",
    "#     scores = cross_val_score(clf, X_data, y_data, cv=5)\n",
    "#     print(scores)\n",
    "#     print(\"Accuracy: %0.2f (+/- %0.2f)\" % (scores.mean(), scores.std() * 2))\n",
    "#     clf.fit(X_data, y_data)\n",
    "#     Target_data = null_classes.drop(['class'], axis=1)\n",
    "#     Target_data.drop(ohe_features, axis=1, inplace=True)\n",
    "#     Target_data = pd.DataFrame(scaler.transform(Target_data))\n",
    "#     for feature in ohe_features:\n",
    "#         Target_data = np.append(Target_data, np.array([null_classes[feature]]).T, axis=1)\n",
    "#     classes = clf.predict(Target_data)\n",
    "#     df.loc[df['class'].isnull(), 'class'] = classes"
   ]
  },
  {
   "cell_type": "code",
   "execution_count": 10,
   "metadata": {},
   "outputs": [],
   "source": [
    "# fill_class_Nans(df_test)"
   ]
  },
  {
   "cell_type": "code",
   "execution_count": 11,
   "metadata": {},
   "outputs": [],
   "source": [
    "# df_test.to_csv('test_data_with_metro_classes.csv')"
   ]
  },
  {
   "cell_type": "code",
   "execution_count": 12,
   "metadata": {},
   "outputs": [],
   "source": [
    "# df_test = pd.read_csv('test_data_with_metro_classes.csv')\n",
    "# df_test.drop(['Unnamed: 0'], inplace=True, axis=1)\n",
    "# df_test.head(5)"
   ]
  },
  {
   "cell_type": "markdown",
   "metadata": {},
   "source": [
    "# Train Test Split"
   ]
  },
  {
   "cell_type": "code",
   "execution_count": 13,
   "metadata": {},
   "outputs": [],
   "source": [
    "from sklearn import preprocessing\n",
    "\n",
    "le = preprocessing.LabelEncoder()\n",
    "df_train['class'] = le.fit_transform(df_train['class'])\n",
    "df_test['class'] = le.fit_transform(df_test['class'])"
   ]
  },
  {
   "cell_type": "code",
   "execution_count": 14,
   "metadata": {},
   "outputs": [],
   "source": [
    "X_train = df_train.drop(['price'], axis=1)\n",
    "y_train = df_train['price'].copy()"
   ]
  },
  {
   "cell_type": "code",
   "execution_count": 15,
   "metadata": {},
   "outputs": [],
   "source": [
    "X_train, X_test, y_train, y_test = train_test_split(X_train, y_train, test_size=0.1, random_state=123)\n",
    "\n",
    "# X_test = df_test.drop(['price'], axis=1)\n",
    "# y_test = df_test['price'].copy()"
   ]
  },
  {
   "cell_type": "markdown",
   "metadata": {},
   "source": [
    "## Baseline"
   ]
  },
  {
   "cell_type": "code",
   "execution_count": 16,
   "metadata": {},
   "outputs": [],
   "source": [
    "def base_line_predict(X_test, X_train, y_train, numeric_class = False):\n",
    "    \"\"\"\n",
    "    Возвращает среднюю классу цену \n",
    "    \"\"\"\n",
    "    if numeric_class == True:\n",
    "        a_mean = y_train.loc[X_train[X_train['class'] == 0].index].mean()\n",
    "        b_mean = y_train.loc[X_train[X_train['class'] == 1].index].mean()\n",
    "        c_mean = y_train.loc[X_train[X_train['class'] == 2].index].mean()\n",
    "        d_mean = y_train.loc[X_train[X_train['class'] == 3].index].mean()\n",
    "    else:\n",
    "        a_mean = y_train.loc[X_train[X_train['class'] == 'a'].index].mean()\n",
    "        b_mean = y_train.loc[X_train[X_train['class'] == 'b'].index].mean()\n",
    "        c_mean = y_train.loc[X_train[X_train['class'] == 'c'].index].mean()\n",
    "        d_mean = y_train.loc[X_train[X_train['class'] == 'd'].index].mean()\n",
    "    y_pred = pd.Series(index = X_test.index)\n",
    "    if numeric_class == True:\n",
    "        y_pred.loc[X_test[X_test['class'] == 0].index] = a_mean\n",
    "        y_pred.loc[X_test[X_test['class'] == 1].index] = b_mean\n",
    "        y_pred.loc[X_test[X_test['class'] == 2].index] = c_mean\n",
    "        y_pred.loc[X_test[X_test['class'] == 3].index] = d_mean\n",
    "    else:\n",
    "        y_pred.loc[X_test[X_test['class'] == 'a'].index] = a_mean\n",
    "        y_pred.loc[X_test[X_test['class'] == 'b'].index] = b_mean\n",
    "        y_pred.loc[X_test[X_test['class'] == 'c'].index] = c_mean\n",
    "        y_pred.loc[X_test[X_test['class'] == 'd'].index] = d_mean\n",
    "    return y_pred"
   ]
  },
  {
   "cell_type": "code",
   "execution_count": 17,
   "metadata": {},
   "outputs": [
    {
     "name": "stdout",
     "output_type": "stream",
     "text": [
      "baseline is 702.8\n"
     ]
    }
   ],
   "source": [
    "bs_pred = base_line_predict(X_test=X_test, X_train=X_train,\n",
    "                                     y_train=y_train, numeric_class=True)\n",
    "\n",
    "print(\"baseline is {:5.1f}\".format(np.sqrt(mse(y_true=y_test, y_pred=bs_pred))))"
   ]
  },
  {
   "cell_type": "markdown",
   "metadata": {},
   "source": [
    "## Несколько моделей с деревьями"
   ]
  },
  {
   "cell_type": "code",
   "execution_count": 18,
   "metadata": {},
   "outputs": [
    {
     "name": "stdout",
     "output_type": "stream",
     "text": [
      "Лучшее значение равно 514.0 при глубине дерева равной 10.\n"
     ]
    },
    {
     "data": {
      "image/png": "[encoded data removed]",
      "text/plain": [
       "<Figure size 432x288 with 1 Axes>"
      ]
     },
     "metadata": {},
     "output_type": "display_data"
    }
   ],
   "source": [
    "trees = range(1, 30)\n",
    "\n",
    "train = []\n",
    "test = []\n",
    "\n",
    "for tree in trees:\n",
    "    clf = DecisionTreeRegressor(max_depth=tree, random_state=12345)\n",
    "    clf.fit(X_train, y_train)\n",
    "    \n",
    "    train.append(np.sqrt(mse(y_true=y_train, y_pred=clf.predict(X_train))))\n",
    "    test.append(np.sqrt(mse(y_true=y_test, y_pred=clf.predict(X_test))))\n",
    "\n",
    "plt.plot(trees, train, label='train')\n",
    "plt.plot(trees, test, label='test')\n",
    "plt.legend()\n",
    "plt.show\n",
    "\n",
    "print(\"Лучшее значение равно {:5.1f} при глубине дерева равной {}.\".format(min(test), test.index(min(test))))"
   ]
  },
  {
   "cell_type": "markdown",
   "metadata": {},
   "source": [
    "# Случайный лес (см. Trees.ipynb)"
   ]
  },
  {
   "cell_type": "code",
   "execution_count": 19,
   "metadata": {},
   "outputs": [],
   "source": [
    "# # очень долгие вычисления !!!!!!!\n",
    "\n",
    "# from sklearn.ensemble import RandomForestRegressor\n",
    "# from sklearn.model_selection import validation_curve\n",
    "# from sklearn.model_selection import StratifiedKFold\n",
    "\n",
    "# model = RandomForestRegressor(random_state=123, n_estimators=20, n_jobs=-1)\n",
    "\n",
    "# depths = np.arange(2, 20)\n",
    "# cv = StratifiedKFold(n_splits=10, shuffle=True, random_state=132)\n",
    "# _, forest_valid_scores = validation_curve(model, X, y, \n",
    "#                                          param_name='max_depth', \n",
    "#                                          scoring = 'neg_mean_squared_error',\n",
    "#                                          param_range=depths, cv=cv, n_jobs=1)\n",
    "\n",
    "# plt.legend()\n",
    "# plt.plot(depths, forest_valid_scores.mean(axis=1), label='forest')"
   ]
  },
  {
   "cell_type": "code",
   "execution_count": 20,
   "metadata": {},
   "outputs": [],
   "source": [
    "# model.fit(X_train, y_train)"
   ]
  },
  {
   "cell_type": "code",
   "execution_count": 21,
   "metadata": {},
   "outputs": [
    {
     "data": {
      "text/plain": [
       "RandomForestRegressor(bootstrap=True, criterion='mse', max_depth=20,\n",
       "           max_features=11, max_leaf_nodes=None, min_impurity_decrease=0.0,\n",
       "           min_impurity_split=None, min_samples_leaf=1,\n",
       "           min_samples_split=2, min_weight_fraction_leaf=0.0,\n",
       "           n_estimators=100, n_jobs=-1, oob_score=True, random_state=42,\n",
       "           verbose=0, warm_start=False)"
      ]
     },
     "execution_count": 21,
     "metadata": {},
     "output_type": "execute_result"
    }
   ],
   "source": [
    "from sklearn.ensemble import RandomForestRegressor\n",
    "\n",
    "rfr = RandomForestRegressor(n_estimators=100, random_state=42, \n",
    "                            n_jobs=-1, oob_score=True, max_depth=20,\n",
    "                            min_samples_leaf=1, max_features=11)\n",
    "rfr.fit(X_train, y_train)"
   ]
  },
  {
   "cell_type": "code",
   "execution_count": 22,
   "metadata": {},
   "outputs": [
    {
     "data": {
      "text/plain": [
       "0.6401276710284678"
      ]
     },
     "execution_count": 22,
     "metadata": {},
     "output_type": "execute_result"
    }
   ],
   "source": [
    "rfr.oob_score_"
   ]
  },
  {
   "cell_type": "code",
   "execution_count": 23,
   "metadata": {},
   "outputs": [
    {
     "name": "stdout",
     "output_type": "stream",
     "text": [
      "random forest mse: 435.74150126775186\n"
     ]
    }
   ],
   "source": [
    "print(\"random forest mse:\" ,np.sqrt(mse(y_true=y_test, y_pred=rfr.predict(X_test))))"
   ]
  },
  {
   "cell_type": "markdown",
   "metadata": {},
   "source": [
    "## KNN"
   ]
  },
  {
   "cell_type": "code",
   "execution_count": 24,
   "metadata": {},
   "outputs": [],
   "source": [
    "ohe_features = ['parking', 'internet', 'meal', 'security']"
   ]
  },
  {
   "cell_type": "code",
   "execution_count": 25,
   "metadata": {},
   "outputs": [],
   "source": [
    "X_train = df_train.drop(['price'], axis=1)\n",
    "X_train.drop(ohe_features, axis=1, inplace=True)\n",
    "y_train = df_train['price'].copy()\n",
    "scaler = StandardScaler()\n",
    "X_train = scaler.fit_transform(X_train)\n",
    "for feature in ohe_features:\n",
    "    X_train = np.append(X_train, np.array([df_train[feature]]).T, axis=1)\n",
    "    \n",
    "X_train, X_test, y_train, y_test = train_test_split(X_train, y_train, test_size=0.1, random_state=123)    "
   ]
  },
  {
   "cell_type": "code",
   "execution_count": 26,
   "metadata": {},
   "outputs": [],
   "source": [
    "# X_test = df_test.drop(['price'], axis=1)\n",
    "# X_test.drop(ohe_features, axis=1, inplace=True)\n",
    "# y_test = df_test['price'].copy()\n",
    "# scaler = StandardScaler()\n",
    "# X_test = scaler.fit_transform(X_test)\n",
    "# for feature in ohe_features:\n",
    "#     X_test = np.append(X_test, np.array([df_test[feature]]).T, axis=1)"
   ]
  },
  {
   "cell_type": "code",
   "execution_count": 27,
   "metadata": {},
   "outputs": [
    {
     "name": "stdout",
     "output_type": "stream",
     "text": [
      "KNN n_neighbors=1 608.2\n",
      "KNN n_neighbors=11 526.3\n",
      "KNN n_neighbors=21 539.4\n",
      "KNN n_neighbors=31 545.1\n",
      "KNN n_neighbors=41 551.9\n",
      "KNN n_neighbors=51 556.9\n",
      "KNN n_neighbors=61 559.2\n",
      "KNN n_neighbors=71 560.3\n",
      "KNN n_neighbors=81 565.3\n",
      "KNN n_neighbors=91 566.9\n"
     ]
    }
   ],
   "source": [
    "n_neighb = range(1, 100, 10)\n",
    "\n",
    "for n in n_neighb:\n",
    "    clf = KNN(n_neighbors=n, weights='distance')\n",
    "    clf.fit(X_train, y_train)\n",
    "    print(\"KNN n_neighbors={} {:5.1f}\".format(n, np.sqrt(mse(y_true=y_test, y_pred=clf.predict(X_test)))))"
   ]
  },
  {
   "cell_type": "markdown",
   "metadata": {},
   "source": [
    "Возле 10 соседей походим поподробнее"
   ]
  },
  {
   "cell_type": "code",
   "execution_count": 28,
   "metadata": {},
   "outputs": [
    {
     "name": "stdout",
     "output_type": "stream",
     "text": [
      "Лучшее значение равно 524.6 при числе соседей равном 7.\n"
     ]
    }
   ],
   "source": [
    "n_neighb = range(1, 40)\n",
    "knn_res = []\n",
    "\n",
    "for n in n_neighb:\n",
    "    clf = KNN(n_neighbors=n, weights='distance')\n",
    "    clf.fit(X_train, y_train)\n",
    "    knn_res.append(np.sqrt(mse(y_true=y_test, y_pred=clf.predict(X_test))))\n",
    "    \n",
    "print(\"Лучшее значение равно {:5.1f} при числе соседей равном {}.\".format(min(knn_res), knn_res.index(min(knn_res))))"
   ]
  },
  {
   "cell_type": "markdown",
   "metadata": {},
   "source": [
    "## Линейная регрессия"
   ]
  },
  {
   "cell_type": "code",
   "execution_count": 29,
   "metadata": {},
   "outputs": [
    {
     "name": "stdout",
     "output_type": "stream",
     "text": [
      "Линейная регрессия 616.3\n"
     ]
    }
   ],
   "source": [
    "clf = lm.LinearRegression()\n",
    "clf.fit(X_train, y_train)\n",
    "print(\"Линейная регрессия {:5.1f}\".format(np.sqrt(mse(y_true=y_test, y_pred=clf.predict(X_test)))))"
   ]
  },
  {
   "cell_type": "code",
   "execution_count": 30,
   "metadata": {},
   "outputs": [
    {
     "name": "stdout",
     "output_type": "stream",
     "text": [
      "Ridge 616.3\n"
     ]
    }
   ],
   "source": [
    "clf = lm.Ridge(alpha=.5)\n",
    "clf.fit(X_train, y_train)\n",
    "print(\"Ridge {:5.1f}\".format(np.sqrt(mse(y_true=y_test, y_pred=clf.predict(X_test)))))"
   ]
  },
  {
   "cell_type": "code",
   "execution_count": 31,
   "metadata": {},
   "outputs": [
    {
     "name": "stdout",
     "output_type": "stream",
     "text": [
      "Lasso 616.3\n"
     ]
    }
   ],
   "source": [
    "clf = lm.Lasso(alpha=.1)\n",
    "clf.fit(X_train, y_train)\n",
    "print(\"Lasso {:5.1f}\".format(np.sqrt(mse(y_true=y_test, y_pred=clf.predict(X_test)))))"
   ]
  },
  {
   "cell_type": "markdown",
   "metadata": {},
   "source": [
    "## Кластеризации"
   ]
  },
  {
   "cell_type": "code",
   "execution_count": 32,
   "metadata": {},
   "outputs": [],
   "source": [
    "ohe_features = ['parking', 'internet', 'meal', 'security']"
   ]
  },
  {
   "cell_type": "code",
   "execution_count": 33,
   "metadata": {},
   "outputs": [],
   "source": [
    "X_train = df_train.copy()\n",
    "#X_train = df_train.drop(['size'], axis=1)\n",
    "X_train.drop(ohe_features, axis=1, inplace=True)\n",
    "scaler = StandardScaler()\n",
    "X_train = scaler.fit_transform(X_train)\n",
    "for feature in ohe_features:\n",
    "    X_train = np.append(X_train, np.array([df_train[feature]]).T, axis=1)"
   ]
  },
  {
   "cell_type": "markdown",
   "metadata": {},
   "source": [
    "### k-means"
   ]
  },
  {
   "cell_type": "code",
   "execution_count": 34,
   "metadata": {},
   "outputs": [
    {
     "name": "stdout",
     "output_type": "stream",
     "text": [
      "n_clusters = 2; score = 0.20801841482599925\n",
      "n_clusters = 3; score = 0.10988667317796351\n",
      "n_clusters = 4; score = 0.1283554191912387\n",
      "\n",
      "n_clusters = 2; score = 0.20801841482599925\n",
      "n_clusters = 3; score = 0.10978338180810832\n",
      "n_clusters = 4; score = 0.12836717211831705\n",
      "\n",
      "n_clusters = 2; score = 0.20801841482599925\n",
      "n_clusters = 3; score = 0.11009620120544791\n",
      "n_clusters = 4; score = 0.12814448609281937\n",
      "\n",
      "n_clusters = 2; score = 0.20801841482599925\n",
      "n_clusters = 3; score = 0.10978338180810832\n",
      "n_clusters = 4; score = 0.1283424230388909\n",
      "\n",
      "n_clusters = 2; score = 0.20801841482599925\n",
      "n_clusters = 3; score = 0.11009620120544791\n",
      "n_clusters = 4; score = 0.12706228483228493\n",
      "\n"
     ]
    }
   ],
   "source": [
    "from sklearn.cluster import KMeans\n",
    "from sklearn.metrics import silhouette_score\n",
    "\n",
    "n_clust_max = 5\n",
    "random_states = [1, 12, 123, 1234, 12345]\n",
    "\n",
    "for rand in random_states:\n",
    "    for i in range(2, n_clust_max):\n",
    "        clf = KMeans(n_clusters=i, init='k-means++', random_state=rand)\n",
    "        clusters =  clf.fit_predict(X_train)\n",
    "        score = silhouette_score(X_train, clusters)\n",
    "        print('n_clusters = {}; score = {}'.format(i, score))\n",
    "    print()    "
   ]
  },
  {
   "cell_type": "markdown",
   "metadata": {},
   "source": [
    "### Agglomerative clustering"
   ]
  },
  {
   "cell_type": "code",
   "execution_count": 35,
   "metadata": {},
   "outputs": [
    {
     "name": "stdout",
     "output_type": "stream",
     "text": [
      "n_clusters = 2; score = 0.2516136508314655\n",
      "n_clusters = 3; score = 0.09259125616051753\n",
      "n_clusters = 4; score = 0.0907348512853652\n",
      "n_clusters = 5; score = 0.09704099312136152\n",
      "n_clusters = 6; score = 0.1104258635351153\n",
      "n_clusters = 7; score = 0.11423282977322861\n",
      "n_clusters = 8; score = 0.12035448387252283\n",
      "n_clusters = 9; score = 0.11998658723194301\n",
      "\n"
     ]
    }
   ],
   "source": [
    "from sklearn.cluster import AgglomerativeClustering\n",
    "\n",
    "n_clust_max = 10\n",
    "\n",
    "for i in range(2, n_clust_max):\n",
    "    clf = AgglomerativeClustering(n_clusters=i)\n",
    "    clusters = clf.fit_predict(X_train)\n",
    "    score = silhouette_score(X_train, clusters)\n",
    "    print('n_clusters = {}; score = {}'.format(i, score))\n",
    "print()    "
   ]
  },
  {
   "cell_type": "markdown",
   "metadata": {},
   "source": [
    "### Gaussian"
   ]
  },
  {
   "cell_type": "code",
   "execution_count": 36,
   "metadata": {},
   "outputs": [
    {
     "name": "stdout",
     "output_type": "stream",
     "text": [
      "n_components = 2; score = 0.13378450095753783\n",
      "n_components = 3; score = 0.03915322908974166\n",
      "n_components = 4; score = 0.06511440137406234\n",
      "n_components = 5; score = 0.05744550187430815\n",
      "n_components = 6; score = 0.03103137942914701\n",
      "n_components = 7; score = 0.039151263859296626\n",
      "n_components = 8; score = 0.019660280692559068\n",
      "n_components = 9; score = 0.01785053753654557\n",
      "\n"
     ]
    }
   ],
   "source": [
    "from sklearn.mixture import GaussianMixture\n",
    "\n",
    "n_clust_max = 10\n",
    "\n",
    "for i in range(2, n_clust_max):\n",
    "    clf = GaussianMixture(n_components=i)\n",
    "    clf.fit(X_train)\n",
    "    clusters = clf.predict(X_train)\n",
    "    score = silhouette_score(X_train, clusters)\n",
    "    print('n_components = {}; score = {}'.format(i, score))\n",
    "print() "
   ]
  },
  {
   "cell_type": "markdown",
   "metadata": {},
   "source": [
    "### DBSCAN"
   ]
  },
  {
   "cell_type": "code",
   "execution_count": 37,
   "metadata": {},
   "outputs": [
    {
     "name": "stdout",
     "output_type": "stream",
     "text": [
      "n_samples = 2; score = -0.4106449934429675\n",
      "n_samples = 3; score = -0.2637019337065017\n",
      "n_samples = 4; score = -0.27348590623011254\n",
      "n_samples = 5; score = -0.17318523810525388\n",
      "n_samples = 6; score = -0.07886957043957124\n",
      "n_samples = 7; score = -0.06794894789638396\n",
      "n_samples = 8; score = -0.06794894789638396\n",
      "n_samples = 9; score = -0.040732145972830286\n",
      "\n"
     ]
    }
   ],
   "source": [
    "from sklearn.cluster import DBSCAN\n",
    "\n",
    "n_samp_max = 10\n",
    "\n",
    "for i in range(2, n_samp_max):\n",
    "    clf = DBSCAN(eps=0.05, min_samples=i)\n",
    "    clf.fit(X_train)\n",
    "    clusters = clf.labels_\n",
    "    score = silhouette_score(X_train, clusters)\n",
    "    print('n_samples = {}; score = {}'.format(i, score))\n",
    "print() "
   ]
  },
  {
   "cell_type": "code",
   "execution_count": 38,
   "metadata": {},
   "outputs": [
    {
     "data": {
      "text/html": [
       "<div>\n",
       "<style scoped>\n",
       "    .dataframe tbody tr th:only-of-type {\n",
       "        vertical-align: middle;\n",
       "    }\n",
       "\n",
       "    .dataframe tbody tr th {\n",
       "        vertical-align: top;\n",
       "    }\n",
       "\n",
       "    .dataframe thead th {\n",
       "        text-align: right;\n",
       "    }\n",
       "</style>\n",
       "<table border=\"1\" class=\"dataframe\">\n",
       "  <thead>\n",
       "    <tr style=\"text-align: right;\">\n",
       "      <th></th>\n",
       "      <th>size</th>\n",
       "      <th>class</th>\n",
       "      <th>price</th>\n",
       "      <th>pledge</th>\n",
       "      <th>near_metro</th>\n",
       "      <th>parking</th>\n",
       "      <th>internet</th>\n",
       "      <th>meal</th>\n",
       "      <th>security</th>\n",
       "      <th>comfort</th>\n",
       "      <th>lat</th>\n",
       "      <th>lon</th>\n",
       "      <th>distance</th>\n",
       "      <th>log_size</th>\n",
       "      <th>clusters</th>\n",
       "    </tr>\n",
       "  </thead>\n",
       "  <tbody>\n",
       "    <tr>\n",
       "      <th>0</th>\n",
       "      <td>28.8</td>\n",
       "      <td>1</td>\n",
       "      <td>1354</td>\n",
       "      <td>39000</td>\n",
       "      <td>700.0</td>\n",
       "      <td>0</td>\n",
       "      <td>0</td>\n",
       "      <td>0</td>\n",
       "      <td>0</td>\n",
       "      <td>1</td>\n",
       "      <td>55.745093</td>\n",
       "      <td>37.664815</td>\n",
       "      <td>0.09581</td>\n",
       "      <td>3.360375</td>\n",
       "      <td>0</td>\n",
       "    </tr>\n",
       "    <tr>\n",
       "      <th>1</th>\n",
       "      <td>588.2</td>\n",
       "      <td>1</td>\n",
       "      <td>850</td>\n",
       "      <td>500000</td>\n",
       "      <td>700.0</td>\n",
       "      <td>1</td>\n",
       "      <td>0</td>\n",
       "      <td>0</td>\n",
       "      <td>0</td>\n",
       "      <td>1</td>\n",
       "      <td>55.745093</td>\n",
       "      <td>37.664815</td>\n",
       "      <td>0.09581</td>\n",
       "      <td>6.377067</td>\n",
       "      <td>1</td>\n",
       "    </tr>\n",
       "    <tr>\n",
       "      <th>2</th>\n",
       "      <td>45.0</td>\n",
       "      <td>1</td>\n",
       "      <td>1111</td>\n",
       "      <td>50000</td>\n",
       "      <td>200.0</td>\n",
       "      <td>1</td>\n",
       "      <td>0</td>\n",
       "      <td>0</td>\n",
       "      <td>1</td>\n",
       "      <td>0</td>\n",
       "      <td>55.759659</td>\n",
       "      <td>37.752850</td>\n",
       "      <td>0.27184</td>\n",
       "      <td>3.806662</td>\n",
       "      <td>0</td>\n",
       "    </tr>\n",
       "    <tr>\n",
       "      <th>3</th>\n",
       "      <td>100.0</td>\n",
       "      <td>1</td>\n",
       "      <td>1700</td>\n",
       "      <td>170000</td>\n",
       "      <td>700.0</td>\n",
       "      <td>1</td>\n",
       "      <td>0</td>\n",
       "      <td>0</td>\n",
       "      <td>1</td>\n",
       "      <td>0</td>\n",
       "      <td>55.569026</td>\n",
       "      <td>37.588647</td>\n",
       "      <td>0.19060</td>\n",
       "      <td>4.605170</td>\n",
       "      <td>0</td>\n",
       "    </tr>\n",
       "    <tr>\n",
       "      <th>4</th>\n",
       "      <td>190.0</td>\n",
       "      <td>2</td>\n",
       "      <td>789</td>\n",
       "      <td>150000</td>\n",
       "      <td>1200.0</td>\n",
       "      <td>0</td>\n",
       "      <td>1</td>\n",
       "      <td>0</td>\n",
       "      <td>0</td>\n",
       "      <td>0</td>\n",
       "      <td>55.757496</td>\n",
       "      <td>37.802086</td>\n",
       "      <td>0.37023</td>\n",
       "      <td>5.247024</td>\n",
       "      <td>0</td>\n",
       "    </tr>\n",
       "  </tbody>\n",
       "</table>\n",
       "</div>"
      ],
      "text/plain": [
       "    size  class  price  pledge  near_metro  parking  internet  meal  security  \\\n",
       "0   28.8      1   1354   39000       700.0        0         0     0         0   \n",
       "1  588.2      1    850  500000       700.0        1         0     0         0   \n",
       "2   45.0      1   1111   50000       200.0        1         0     0         1   \n",
       "3  100.0      1   1700  170000       700.0        1         0     0         1   \n",
       "4  190.0      2    789  150000      1200.0        0         1     0         0   \n",
       "\n",
       "   comfort        lat        lon  distance  log_size  clusters  \n",
       "0        1  55.745093  37.664815   0.09581  3.360375         0  \n",
       "1        1  55.745093  37.664815   0.09581  6.377067         1  \n",
       "2        0  55.759659  37.752850   0.27184  3.806662         0  \n",
       "3        0  55.569026  37.588647   0.19060  4.605170         0  \n",
       "4        0  55.757496  37.802086   0.37023  5.247024         0  "
      ]
     },
     "execution_count": 38,
     "metadata": {},
     "output_type": "execute_result"
    }
   ],
   "source": [
    "n_clust = 2\n",
    "\n",
    "clf = AgglomerativeClustering(n_clusters=n_clust)\n",
    "clusters =  clf.fit_predict(X_train)\n",
    "\n",
    "df_train_tmp = df_train.copy()\n",
    "df_train_tmp['clusters'] = pd.Series(clusters, index=df_train_tmp.index)\n",
    "df_train_tmp.head(5)"
   ]
  },
  {
   "cell_type": "code",
   "execution_count": 39,
   "metadata": {},
   "outputs": [
    {
     "data": {
      "text/html": [
       "<div>\n",
       "<style scoped>\n",
       "    .dataframe tbody tr th:only-of-type {\n",
       "        vertical-align: middle;\n",
       "    }\n",
       "\n",
       "    .dataframe tbody tr th {\n",
       "        vertical-align: top;\n",
       "    }\n",
       "\n",
       "    .dataframe thead th {\n",
       "        text-align: right;\n",
       "    }\n",
       "</style>\n",
       "<table border=\"1\" class=\"dataframe\">\n",
       "  <thead>\n",
       "    <tr style=\"text-align: right;\">\n",
       "      <th></th>\n",
       "      <th>size</th>\n",
       "      <th>class</th>\n",
       "      <th>price</th>\n",
       "      <th>pledge</th>\n",
       "      <th>near_metro</th>\n",
       "      <th>parking</th>\n",
       "      <th>internet</th>\n",
       "      <th>meal</th>\n",
       "      <th>security</th>\n",
       "      <th>comfort</th>\n",
       "      <th>distance</th>\n",
       "      <th>log_size</th>\n",
       "    </tr>\n",
       "  </thead>\n",
       "  <tbody>\n",
       "    <tr>\n",
       "      <th>0</th>\n",
       "      <td>69.058422</td>\n",
       "      <td>1.059451</td>\n",
       "      <td>1324.242378</td>\n",
       "      <td>59259.300686</td>\n",
       "      <td>820.146711</td>\n",
       "      <td>0.523247</td>\n",
       "      <td>0.349085</td>\n",
       "      <td>0.314405</td>\n",
       "      <td>0.488948</td>\n",
       "      <td>2.710747</td>\n",
       "      <td>0.171007</td>\n",
       "      <td>3.864934</td>\n",
       "    </tr>\n",
       "    <tr>\n",
       "      <th>1</th>\n",
       "      <td>373.079672</td>\n",
       "      <td>0.839344</td>\n",
       "      <td>1438.754098</td>\n",
       "      <td>361596.491803</td>\n",
       "      <td>717.160797</td>\n",
       "      <td>0.606557</td>\n",
       "      <td>0.232787</td>\n",
       "      <td>0.259016</td>\n",
       "      <td>0.488525</td>\n",
       "      <td>2.501639</td>\n",
       "      <td>0.122518</td>\n",
       "      <td>5.842703</td>\n",
       "    </tr>\n",
       "  </tbody>\n",
       "</table>\n",
       "</div>"
      ],
      "text/plain": [
       "         size     class        price         pledge  near_metro   parking  \\\n",
       "0   69.058422  1.059451  1324.242378   59259.300686  820.146711  0.523247   \n",
       "1  373.079672  0.839344  1438.754098  361596.491803  717.160797  0.606557   \n",
       "\n",
       "   internet      meal  security   comfort  distance  log_size  \n",
       "0  0.349085  0.314405  0.488948  2.710747  0.171007  3.864934  \n",
       "1  0.232787  0.259016  0.488525  2.501639  0.122518  5.842703  "
      ]
     },
     "execution_count": 39,
     "metadata": {},
     "output_type": "execute_result"
    }
   ],
   "source": [
    "means = pd.DataFrame(columns=df_train.columns)\n",
    "\n",
    "for i in range(n_clust):\n",
    "    ser = pd.Series()\n",
    "    for feature in df_train_tmp:\n",
    "        ser[feature] = df_train_tmp[df_train_tmp['clusters'] == i][feature].mean()\n",
    "    means = means.append(ser, ignore_index=True)\n",
    "    \n",
    "means = means.drop(['clusters', 'lat', 'lon'], axis=1)    \n",
    "    \n",
    "means     "
   ]
  },
  {
   "cell_type": "markdown",
   "metadata": {},
   "source": [
    "## Baseline on new test"
   ]
  },
  {
   "cell_type": "code",
   "execution_count": 40,
   "metadata": {},
   "outputs": [],
   "source": [
    "X_train = df_train.drop(['price'], axis=1)\n",
    "y_train = df_train['price'].copy()"
   ]
  },
  {
   "cell_type": "code",
   "execution_count": 41,
   "metadata": {},
   "outputs": [],
   "source": [
    "X_test = df_test.drop(['price'], axis=1)\n",
    "y_test = df_test['price'].copy()"
   ]
  },
  {
   "cell_type": "code",
   "execution_count": 42,
   "metadata": {},
   "outputs": [
    {
     "name": "stdout",
     "output_type": "stream",
     "text": [
      "baseline is 614.6\n"
     ]
    }
   ],
   "source": [
    "bs_pred = base_line_predict(X_test=X_test, X_train=X_train,\n",
    "                                     y_train=y_train, numeric_class=True)\n",
    "\n",
    "print(\"baseline is {:5.1f}\".format(np.sqrt(mse(y_true=y_test, y_pred=bs_pred))))"
   ]
  },
  {
   "cell_type": "markdown",
   "metadata": {},
   "source": [
    "## Best model (Случайный лес) on new test"
   ]
  },
  {
   "cell_type": "code",
   "execution_count": 43,
   "metadata": {},
   "outputs": [
    {
     "data": {
      "text/plain": [
       "RandomForestRegressor(bootstrap=True, criterion='mse', max_depth=20,\n",
       "           max_features=11, max_leaf_nodes=None, min_impurity_decrease=0.0,\n",
       "           min_impurity_split=None, min_samples_leaf=1,\n",
       "           min_samples_split=2, min_weight_fraction_leaf=0.0,\n",
       "           n_estimators=100, n_jobs=-1, oob_score=True, random_state=42,\n",
       "           verbose=0, warm_start=False)"
      ]
     },
     "execution_count": 43,
     "metadata": {},
     "output_type": "execute_result"
    }
   ],
   "source": [
    "rfr = RandomForestRegressor(n_estimators=100, random_state=42, \n",
    "                            n_jobs=-1, oob_score=True, max_depth=20,\n",
    "                            min_samples_leaf=1, max_features=11)\n",
    "rfr.fit(X_train, y_train)"
   ]
  },
  {
   "cell_type": "code",
   "execution_count": 44,
   "metadata": {},
   "outputs": [
    {
     "data": {
      "text/plain": [
       "0.6579270893469547"
      ]
     },
     "execution_count": 44,
     "metadata": {},
     "output_type": "execute_result"
    }
   ],
   "source": [
    "rfr.oob_score_"
   ]
  },
  {
   "cell_type": "code",
   "execution_count": 45,
   "metadata": {},
   "outputs": [
    {
     "name": "stdout",
     "output_type": "stream",
     "text": [
      "random forest mse: 417.62676857303023\n"
     ]
    }
   ],
   "source": [
    "print(\"random forest mse:\" ,np.sqrt(mse(y_true=y_test, y_pred=rfr.predict(X_test))))"
   ]
  }
 ],
 "metadata": {
  "kernelspec": {
   "display_name": "Python 3",
   "language": "python",
   "name": "python3"
  },
  "language_info": {
   "codemirror_mode": {
    "name": "ipython",
    "version": 3
   },
   "file_extension": ".py",
   "mimetype": "text/x-python",
   "name": "python",
   "nbconvert_exporter": "python",
   "pygments_lexer": "ipython3",
   "version": "3.6.5"
  }
 },
 "nbformat": 4,
 "nbformat_minor": 2
}
