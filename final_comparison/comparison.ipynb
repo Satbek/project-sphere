{
 "cells": [
  {
   "cell_type": "markdown",
   "metadata": {},
   "source": [
    "Сравнение результатов всех моделей и бейзлайна"
   ]
  },
  {
   "cell_type": "code",
   "execution_count": 27,
   "metadata": {},
   "outputs": [],
   "source": [
    "%matplotlib inline\n",
    "import matplotlib.pyplot as plt\n",
    "import pandas as pd\n",
    "import numpy as np\n",
    "import seaborn as sns\n",
    "from sklearn.preprocessing import StandardScaler\n",
    "from sklearn.tree import DecisionTreeRegressor\n",
    "from sklearn.model_selection import train_test_split\n",
    "from sklearn.metrics import mean_squared_error\n",
    "mse = mean_squared_error\n",
    "from sklearn.model_selection import cross_val_score\n",
    "from sklearn.neighbors import KNeighborsRegressor\n",
    "KNN = KNeighborsRegressor\n",
    "from sklearn import linear_model\n",
    "lm = linear_model"
   ]
  },
  {
   "cell_type": "code",
   "execution_count": 2,
   "metadata": {},
   "outputs": [
    {
     "name": "stdout",
     "output_type": "stream",
     "text": [
      "    size class  price  pledge  near_metro  parking  internet  meal  security  \\\n",
      "0   28.8     b   1354   39000       700.0        0         0     0         0   \n",
      "1  588.2     b    850  500000       700.0        1         0     0         0   \n",
      "2   45.0     b   1111   50000       200.0        1         0     0         1   \n",
      "3  100.0     b   1700  170000       700.0        1         0     0         1   \n",
      "4  190.0     c    789  150000      1200.0        0         1     0         0   \n",
      "\n",
      "   comfort        lat        lon  distance  \n",
      "0        1  55.745093  37.664815   0.09581  \n",
      "1        1  55.745093  37.664815   0.09581  \n",
      "2        0  55.759659  37.752850   0.27184  \n",
      "3        0  55.569026  37.588647   0.19060  \n",
      "4        0  55.757496  37.802086   0.37023  \n"
     ]
    }
   ],
   "source": [
    "SIZE_CUT_VALUE = 700\n",
    "PRICE_CUT_VALUE = 4500\n",
    "\n",
    "df_train = pd.read_csv('../datasets/data_with_classes_and_metros.csv')\n",
    "df_train = df_train[(df_train.price < PRICE_CUT_VALUE) &\n",
    "                    (df_train['size'] < SIZE_CUT_VALUE)]\n",
    "\n",
    "df_test = pd.read_csv('../datasets/result_test.csv')\n",
    "df_test = df_test[(df_test.price < PRICE_CUT_VALUE) &\n",
    "                    (df_test['size'] < SIZE_CUT_VALUE)]\n",
    "\n",
    "df_train.drop(['Unnamed: 0'], inplace=True, axis=1)\n",
    "print(df_train.head(5))"
   ]
  },
  {
   "cell_type": "code",
   "execution_count": 3,
   "metadata": {},
   "outputs": [
    {
     "name": "stdout",
     "output_type": "stream",
     "text": [
      "   size class  price  pledge  near_metro  parking  internet  meal  security  \\\n",
      "1   8.0     a   1250   10000       300.0        0         1     0         0   \n",
      "2  20.0     b   1450   29000       600.0        0         1     0         0   \n",
      "3  34.5     b   1043   36000       600.0        1         0     1         1   \n",
      "4  15.0   NaN   2667   40000       300.0        0         1     1         1   \n",
      "5  39.7   NaN   1700   67490       200.0        0         1     1         1   \n",
      "\n",
      "   comfort        lat        lon  distance  \n",
      "1        4  55.747115  37.539078   0.15589  \n",
      "2        3  55.740466  37.521471   0.19135  \n",
      "3        0  55.830695  37.431010   0.38042  \n",
      "4        5  55.758174  37.634290   0.03532  \n",
      "5        4  55.743320  37.650523   0.06748  \n"
     ]
    }
   ],
   "source": [
    "df_test.drop(['Unnamed: 0', 'address', 'descr', 'url', 'metros'], inplace=True, axis=1)\n",
    "print(df_test.head(5))"
   ]
  },
  {
   "cell_type": "code",
   "execution_count": 4,
   "metadata": {},
   "outputs": [],
   "source": [
    "# пока что просто их выкину, все равно больше 900 знаечний осталось\n",
    "df_test.dropna(subset=['class', 'near_metro'], inplace=True)"
   ]
  },
  {
   "cell_type": "code",
   "execution_count": 5,
   "metadata": {},
   "outputs": [
    {
     "data": {
      "text/plain": [
       "(890, 13)"
      ]
     },
     "execution_count": 5,
     "metadata": {},
     "output_type": "execute_result"
    }
   ],
   "source": [
    "df_test.shape"
   ]
  },
  {
   "cell_type": "code",
   "execution_count": 6,
   "metadata": {},
   "outputs": [],
   "source": [
    "from sklearn import preprocessing\n",
    "le = preprocessing.LabelEncoder()\n",
    "df_train['class'] = le.fit_transform(df_train['class'])\n",
    "df_test['class'] = le.fit_transform(df_test['class'])"
   ]
  },
  {
   "cell_type": "code",
   "execution_count": 7,
   "metadata": {},
   "outputs": [],
   "source": [
    "X_train = df_train.drop(['price'], axis=1)\n",
    "y_train = df_train['price'].copy()"
   ]
  },
  {
   "cell_type": "code",
   "execution_count": 8,
   "metadata": {},
   "outputs": [],
   "source": [
    "X_test = df_test.drop(['price'], axis=1)\n",
    "y_test = df_test['price'].copy()"
   ]
  },
  {
   "cell_type": "markdown",
   "metadata": {},
   "source": [
    "## Baseline"
   ]
  },
  {
   "cell_type": "code",
   "execution_count": 9,
   "metadata": {},
   "outputs": [],
   "source": [
    "def base_line_predict(X_test, X_train, y_train, numeric_class = False):\n",
    "    \"\"\"\n",
    "    Возвращает среднюю классу цену \n",
    "    \"\"\"\n",
    "    if numeric_class == True:\n",
    "        a_mean = y_train.loc[X_train[X_train['class'] == 0].index].mean()\n",
    "        b_mean = y_train.loc[X_train[X_train['class'] == 1].index].mean()\n",
    "        c_mean = y_train.loc[X_train[X_train['class'] == 2].index].mean()\n",
    "        d_mean = y_train.loc[X_train[X_train['class'] == 3].index].mean()\n",
    "    else:\n",
    "        a_mean = y_train.loc[X_train[X_train['class'] == 'a'].index].mean()\n",
    "        b_mean = y_train.loc[X_train[X_train['class'] == 'b'].index].mean()\n",
    "        c_mean = y_train.loc[X_train[X_train['class'] == 'c'].index].mean()\n",
    "        d_mean = y_train.loc[X_train[X_train['class'] == 'd'].index].mean()\n",
    "    y_pred = pd.Series(index = X_test.index)\n",
    "    if numeric_class == True:\n",
    "        y_pred.loc[X_test[X_test['class'] == 0].index] = a_mean\n",
    "        y_pred.loc[X_test[X_test['class'] == 1].index] = b_mean\n",
    "        y_pred.loc[X_test[X_test['class'] == 2].index] = c_mean\n",
    "        y_pred.loc[X_test[X_test['class'] == 3].index] = d_mean\n",
    "    else:\n",
    "        y_pred.loc[X_test[X_test['class'] == 'a'].index] = a_mean\n",
    "        y_pred.loc[X_test[X_test['class'] == 'b'].index] = b_mean\n",
    "        y_pred.loc[X_test[X_test['class'] == 'c'].index] = c_mean\n",
    "        y_pred.loc[X_test[X_test['class'] == 'd'].index] = d_mean\n",
    "    return y_pred"
   ]
  },
  {
   "cell_type": "code",
   "execution_count": 10,
   "metadata": {},
   "outputs": [
    {
     "name": "stdout",
     "output_type": "stream",
     "text": [
      "baseline is 627.2\n"
     ]
    }
   ],
   "source": [
    "bs_pred = base_line_predict(X_test=X_test, X_train=X_train,\n",
    "                                     y_train=y_train, numeric_class=True)\n",
    "\n",
    "print(\"baseline is {:5.1f}\".format(np.sqrt(mse(y_true=y_test, y_pred=bs_pred))))"
   ]
  },
  {
   "cell_type": "markdown",
   "metadata": {},
   "source": [
    "## Несколько моделей с деревьями"
   ]
  },
  {
   "cell_type": "code",
   "execution_count": 11,
   "metadata": {},
   "outputs": [
    {
     "name": "stdout",
     "output_type": "stream",
     "text": [
      "Лучшее значение равно 522.9 при глубине дерева равной 9.\n"
     ]
    },
    {
     "data": {
      "image/png": "[encoded data removed]",
      "text/plain": [
       "<Figure size 432x288 with 1 Axes>"
      ]
     },
     "metadata": {},
     "output_type": "display_data"
    }
   ],
   "source": [
    "trees = range(1, 30)\n",
    "\n",
    "train = []\n",
    "test = []\n",
    "\n",
    "for tree in trees:\n",
    "    clf = DecisionTreeRegressor(max_depth=tree, random_state=12345)\n",
    "    clf.fit(X_train, y_train)\n",
    "    \n",
    "    train.append(np.sqrt(mse(y_true=y_train, y_pred=clf.predict(X_train))))\n",
    "    test.append(np.sqrt(mse(y_true=y_test, y_pred=clf.predict(X_test))))\n",
    "\n",
    "plt.plot(trees, train, label='train')\n",
    "plt.plot(trees, test, label='test')\n",
    "plt.legend()\n",
    "plt.show\n",
    "\n",
    "print(\"Лучшее значение равно {:5.1f} при глубине дерева равной {}.\".format(min(test), test.index(min(test))))"
   ]
  },
  {
   "cell_type": "markdown",
   "metadata": {},
   "source": [
    "## KNN"
   ]
  },
  {
   "cell_type": "code",
   "execution_count": 12,
   "metadata": {},
   "outputs": [],
   "source": [
    "ohe_features = ['parking', 'internet', 'meal', 'security']"
   ]
  },
  {
   "cell_type": "code",
   "execution_count": 13,
   "metadata": {},
   "outputs": [],
   "source": [
    "X_train = df_train.drop(['price'], axis=1)\n",
    "X_train.drop(ohe_features, axis=1, inplace=True)\n",
    "y_train = df_train['price'].copy()\n",
    "scaler = StandardScaler()\n",
    "X_train = scaler.fit_transform(X_train)\n",
    "for feature in ohe_features:\n",
    "    X_train = np.append(X_train, np.array([df_train[feature]]).T, axis=1)"
   ]
  },
  {
   "cell_type": "code",
   "execution_count": 14,
   "metadata": {},
   "outputs": [],
   "source": [
    "X_test = df_test.drop(['price'], axis=1)\n",
    "X_test.drop(ohe_features, axis=1, inplace=True)\n",
    "y_test = df_test['price'].copy()\n",
    "scaler = StandardScaler()\n",
    "X_test = scaler.fit_transform(X_test)\n",
    "for feature in ohe_features:\n",
    "    X_test = np.append(X_test, np.array([df_test[feature]]).T, axis=1)"
   ]
  },
  {
   "cell_type": "code",
   "execution_count": 15,
   "metadata": {},
   "outputs": [
    {
     "name": "stdout",
     "output_type": "stream",
     "text": [
      "KNN n_neighbors=1 657.0\n",
      "KNN n_neighbors=11 486.5\n",
      "KNN n_neighbors=21 489.5\n",
      "KNN n_neighbors=31 497.9\n",
      "KNN n_neighbors=41 500.9\n",
      "KNN n_neighbors=51 506.4\n",
      "KNN n_neighbors=61 512.1\n",
      "KNN n_neighbors=71 516.5\n",
      "KNN n_neighbors=81 520.6\n",
      "KNN n_neighbors=91 524.8\n"
     ]
    }
   ],
   "source": [
    "n_neighb = range(1, 100, 10)\n",
    "\n",
    "for n in n_neighb:\n",
    "    clf = KNN(n_neighbors=n, weights='distance')\n",
    "    clf.fit(X_train, y_train)\n",
    "    print(\"KNN n_neighbors={} {:5.1f}\".format(n, np.sqrt(mse(y_true=y_test, y_pred=clf.predict(X_test)))))"
   ]
  },
  {
   "cell_type": "markdown",
   "metadata": {},
   "source": [
    "Возле 10 соседей походим поподробнее"
   ]
  },
  {
   "cell_type": "code",
   "execution_count": 18,
   "metadata": {},
   "outputs": [
    {
     "name": "stdout",
     "output_type": "stream",
     "text": [
      "Лучшее значение равно 484.5 при числе соседей равном 12.\n"
     ]
    }
   ],
   "source": [
    "n_neighb = range(1, 20)\n",
    "knn_res = []\n",
    "\n",
    "for n in n_neighb:\n",
    "    clf = KNN(n_neighbors=n, weights='distance')\n",
    "    clf.fit(X_train, y_train)\n",
    "    knn_res.append(np.sqrt(mse(y_true=y_test, y_pred=clf.predict(X_test))))\n",
    "    \n",
    "print(\"Лучшее значение равно {:5.1f} при числе соседей равном {}.\".format(min(knn_res), knn_res.index(min(knn_res))))"
   ]
  },
  {
   "cell_type": "markdown",
   "metadata": {},
   "source": [
    "## Линейная регрессия"
   ]
  },
  {
   "cell_type": "code",
   "execution_count": 28,
   "metadata": {},
   "outputs": [
    {
     "name": "stdout",
     "output_type": "stream",
     "text": [
      "Линейная регрессия 558.8\n"
     ]
    }
   ],
   "source": [
    "clf = lm.LinearRegression()\n",
    "clf.fit(X_train, y_train)\n",
    "print(\"Линейная регрессия {:5.1f}\".format(np.sqrt(mse(y_true=y_test, y_pred=clf.predict(X_test)))))"
   ]
  },
  {
   "cell_type": "code",
   "execution_count": 36,
   "metadata": {},
   "outputs": [
    {
     "name": "stdout",
     "output_type": "stream",
     "text": [
      "Ridge  558.8\n"
     ]
    }
   ],
   "source": [
    "clf = lm.Ridge(alpha=.5)\n",
    "clf.fit(X_train, y_train)\n",
    "print(\"Ridge {:5.1f}\".format(np.sqrt(mse(y_true=y_test, y_pred=clf.predict(X_test)))))"
   ]
  },
  {
   "cell_type": "code",
   "execution_count": 40,
   "metadata": {},
   "outputs": [
    {
     "name": "stdout",
     "output_type": "stream",
     "text": [
      "Lasso 558.8\n"
     ]
    }
   ],
   "source": [
    "clf = lm.Lasso(alpha=.1)\n",
    "clf.fit(X_train, y_train)\n",
    "print(\"Lasso {:5.1f}\".format(np.sqrt(mse(y_true=y_test, y_pred=clf.predict(X_test)))))"
   ]
  },
  {
   "cell_type": "code",
   "execution_count": null,
   "metadata": {},
   "outputs": [],
   "source": []
  }
 ],
 "metadata": {
  "kernelspec": {
   "display_name": "Python 3",
   "language": "python",
   "name": "python3"
  },
  "language_info": {
   "codemirror_mode": {
    "name": "ipython",
    "version": 3
   },
   "file_extension": ".py",
   "mimetype": "text/x-python",
   "name": "python",
   "nbconvert_exporter": "python",
   "pygments_lexer": "ipython3",
   "version": "3.6.5"
  }
 },
 "nbformat": 4,
 "nbformat_minor": 2
}
